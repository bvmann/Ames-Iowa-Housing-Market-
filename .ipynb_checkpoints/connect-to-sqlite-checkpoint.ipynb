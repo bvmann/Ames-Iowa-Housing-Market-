{
 "cells": [
  {
   "cell_type": "code",
   "execution_count": 1,
   "metadata": {},
   "outputs": [],
   "source": [
    "# useful notebook for sorting out talking to our databasae\n",
    "# Python SQL toolkit and Object Relational Mapper\n",
    "import sqlalchemy\n",
    "from sqlalchemy.ext.automap import automap_base\n",
    "from sqlalchemy.orm import Session\n",
    "from sqlalchemy import create_engine, func\n",
    "from sqlalchemy import inspect\n",
    "# and some other fine things leftover from the homework, really only need Pandas:\n",
    "import numpy as np\n",
    "import pandas as pd\n",
    "import datetime as dt"
   ]
  },
  {
   "cell_type": "code",
   "execution_count": 2,
   "metadata": {},
   "outputs": [],
   "source": [
    "# create an engine to project-2.db\n",
    "engine = create_engine(\"sqlite:///project-2.db\")"
   ]
  },
  {
   "cell_type": "code",
   "execution_count": 3,
   "metadata": {},
   "outputs": [
    {
     "name": "stdout",
     "output_type": "stream",
     "text": [
      "tables inside of our project-2.db\n",
      "['gun_violence_data']\n",
      "\n"
     ]
    }
   ],
   "source": [
    "# Create the inspector and connect it to the engine\n",
    "inspector = inspect(engine)\n",
    "\n",
    "# Collect the names of tables within the database\n",
    "print('tables inside of our project-2.db')\n",
    "print(inspector.get_table_names())\n",
    "print('')"
   ]
  },
  {
   "cell_type": "code",
   "execution_count": 4,
   "metadata": {},
   "outputs": [
    {
     "name": "stdout",
     "output_type": "stream",
     "text": [
      " -- columns inside of gun_violence_data table\n",
      "IncidentID INTEGER\n",
      "Date TEXT\n",
      "City_or_County TEXT\n",
      "Address TEXT\n",
      "Number_Killed INTEGER\n",
      "Number_Injured INTEGER\n",
      "Gun_Stolen TEXT\n",
      "Gun_Type TEXT\n",
      "Incident_Characteristics TEXT\n",
      "Latitude NUMERIC\n",
      "Location_Description TEXT\n",
      "Longitude NUMERIC\n",
      "\n"
     ]
    }
   ],
   "source": [
    "# let's see what's in those tables\n",
    "print(' -- columns inside of gun_violence_data table')\n",
    "columns = inspector.get_columns('gun_violence_data')\n",
    "for column in columns:\n",
    "    print(column[\"name\"], column[\"type\"])\n",
    "print('')"
   ]
  },
  {
   "cell_type": "code",
   "execution_count": 5,
   "metadata": {},
   "outputs": [],
   "source": [
    "# reflect an existing database into a new model\n",
    "Base = automap_base()\n",
    "\n",
    "# reflect the tables\n",
    "Base.prepare(engine, reflect=True)"
   ]
  },
  {
   "cell_type": "code",
   "execution_count": 6,
   "metadata": {},
   "outputs": [
    {
     "data": {
      "text/plain": [
       "['gun_violence_data']"
      ]
     },
     "execution_count": 6,
     "metadata": {},
     "output_type": "execute_result"
    }
   ],
   "source": [
    "# View all of the classes that automap found\n",
    "Base.classes.keys()"
   ]
  },
  {
   "cell_type": "code",
   "execution_count": null,
   "metadata": {},
   "outputs": [],
   "source": [
    "# Save references to our table\n",
    "GunV = Base.classes.gun_violence_data"
   ]
  },
  {
   "cell_type": "code",
   "execution_count": null,
   "metadata": {},
   "outputs": [],
   "source": [
    "# Create our session (link) from Python to the DB\n",
    "session = Session(engine)"
   ]
  },
  {
   "cell_type": "code",
   "execution_count": null,
   "metadata": {},
   "outputs": [],
   "source": [
    "print(' -- Let\\'s see what we have we have in our GunV table' )\n",
    "print(session.query(GunV).statement)\n",
    "print('')\n",
    "\n"
   ]
  },
  {
   "cell_type": "code",
   "execution_count": null,
   "metadata": {},
   "outputs": [],
   "source": [
    "print (\"========================\")\n",
    "print(\"the above cells show how we can connect to our sqlite database\")\n",
    "print(\"the cells below demonstrate how I pulled out the lat and lng coords\" )\n",
    "print (\"========================\")"
   ]
  },
  {
   "cell_type": "code",
   "execution_count": null,
   "metadata": {},
   "outputs": [],
   "source": [
    "# let's get some Latitude data\n",
    "lats = pd.read_sql_query(\"SELECT Latitude from gun_violence_data\", engine)\n",
    "#print(type(lats['Latitude'].iloc[0]))\n",
    "#lats"
   ]
  },
  {
   "cell_type": "code",
   "execution_count": null,
   "metadata": {},
   "outputs": [],
   "source": [
    "lngs = pd.read_sql_query(\"SELECT Longitude from gun_violence_data\", engine)\n",
    "#print(type(lngs['Longitude'].iloc[0]))\n",
    "#lngs"
   ]
  },
  {
   "cell_type": "code",
   "execution_count": null,
   "metadata": {},
   "outputs": [],
   "source": [
    "lats_lngs_df = pd.merge(lats, lngs, left_index=True, right_index=True)\n",
    "print (\"we now have a single dataframe of lats and lngs\")\n",
    "lats_lngs_df"
   ]
  },
  {
   "cell_type": "code",
   "execution_count": null,
   "metadata": {},
   "outputs": [],
   "source": [
    "print (\"========================\")\n",
    "print(\"the next thing to do is to produce the data format to feed to our API\")\n",
    "print(\"for (lat, lng) in my heatmap, a 'list of lists' turned out to be the right thing\" )\n",
    "print (\"========================\")"
   ]
  },
  {
   "cell_type": "code",
   "execution_count": null,
   "metadata": {},
   "outputs": [],
   "source": [
    "# convert to list of lists\n",
    "lats_lngs_list = lats_lngs_df.values.tolist()\n",
    "lats_lngs_list"
   ]
  },
  {
   "cell_type": "code",
   "execution_count": null,
   "metadata": {},
   "outputs": [],
   "source": [
    "print (\"========================\")\n",
    "print(\"now that you've used the notebook to produce your data\")\n",
    "print(\"you move the relevant code to your flask-app.py and plug it in\" )\n",
    "print (\"========================\")"
   ]
  },
  {
   "cell_type": "code",
   "execution_count": null,
   "metadata": {},
   "outputs": [],
   "source": []
  }
 ],
 "metadata": {
  "kernelspec": {
   "display_name": "Python 3",
   "language": "python",
   "name": "python3"
  },
  "language_info": {
   "codemirror_mode": {
    "name": "ipython",
    "version": 3
   },
   "file_extension": ".py",
   "mimetype": "text/x-python",
   "name": "python",
   "nbconvert_exporter": "python",
   "pygments_lexer": "ipython3",
   "version": "3.8.5"
  }
 },
 "nbformat": 4,
 "nbformat_minor": 4
}
