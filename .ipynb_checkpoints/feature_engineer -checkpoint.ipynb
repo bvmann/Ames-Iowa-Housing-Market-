{
 "cells": [
  {
   "cell_type": "code",
   "execution_count": 41,
   "id": "3c06a133",
   "metadata": {},
   "outputs": [],
   "source": [
    "import pandas as pd \n",
    "import matplotlib.pyplot as plt\n",
    "import numpy as np \n",
    "\n"
   ]
  },
  {
   "cell_type": "code",
   "execution_count": 42,
   "id": "157f3f40",
   "metadata": {},
   "outputs": [],
   "source": [
    "train = pd.read_csv('Resources/train_allvalues.csv')\n",
    "test=pd.read_csv('Resources/test.csv')"
   ]
  },
  {
   "cell_type": "code",
   "execution_count": 43,
   "id": "88deb88d",
   "metadata": {},
   "outputs": [
    {
     "data": {
      "text/plain": [
       "Index(['Id', 'MSSubClass', 'MSZoning', 'LotFrontage', 'LotArea', 'Street',\n",
       "       'LotShape', 'LandContour', 'Utilities', 'LotConfig', 'LandSlope',\n",
       "       'Neighborhood', 'Condition1', 'Condition2', 'BldgType', 'HouseStyle',\n",
       "       'OverallQual', 'OverallCond', 'YearBuilt', 'YearRemodAdd', 'RoofStyle',\n",
       "       'RoofMatl', 'Exterior1st', 'Exterior2nd', 'MasVnrType', 'MasVnrArea',\n",
       "       'ExterQual', 'ExterCond', 'Foundation', 'BsmtQual', 'BsmtCond',\n",
       "       'BsmtExposure', 'BsmtFinType1', 'BsmtFinSF1', 'BsmtFinType2',\n",
       "       'BsmtFinSF2', 'BsmtUnfSF', 'TotalBsmtSF', 'Heating', 'HeatingQC',\n",
       "       'CentralAir', 'Electrical', '1stFlrSF', '2ndFlrSF', 'LowQualFinSF',\n",
       "       'GrLivArea', 'BsmtFullBath', 'BsmtHalfBath', 'FullBath', 'HalfBath',\n",
       "       'BedroomAbvGr', 'KitchenAbvGr', 'KitchenQual', 'TotRmsAbvGrd',\n",
       "       'Functional', 'Fireplaces', 'FireplaceQu', 'GarageType', 'GarageYrBlt',\n",
       "       'GarageFinish', 'GarageCars', 'GarageArea', 'GarageQual', 'GarageCond',\n",
       "       'PavedDrive', 'WoodDeckSF', 'OpenPorchSF', 'EnclosedPorch', '3SsnPorch',\n",
       "       'ScreenPorch', 'PoolArea', 'Fence', 'MiscVal', 'MoSold', 'YrSold',\n",
       "       'SaleType', 'SaleCondition', 'SalePrice'],\n",
       "      dtype='object')"
      ]
     },
     "execution_count": 43,
     "metadata": {},
     "output_type": "execute_result"
    }
   ],
   "source": [
    "train.columns "
   ]
  },
  {
   "cell_type": "code",
   "execution_count": 44,
   "id": "498654d7",
   "metadata": {},
   "outputs": [
    {
     "data": {
      "image/png": "[encoded data removed]",
      "text/plain": [
       "<Figure size 720x432 with 1 Axes>"
      ]
     },
     "metadata": {
      "needs_background": "light"
     },
     "output_type": "display_data"
    }
   ],
   "source": [
    "fig,ax = plt.subplots(figsize=(10,6))\n",
    "\n",
    "ax.scatter(x=train.YearBuilt, y = train['SalePrice'])\n",
    "plt.xlabel(\"Lot Frontage\")\n",
    "plt.ylabel(\"Sale Price\")\n",
    "plt.show()"
   ]
  },
  {
   "cell_type": "code",
   "execution_count": 45,
   "id": "08fc8115",
   "metadata": {},
   "outputs": [],
   "source": [
    "train.drop(columns=['Id','MiscVal','PoolArea','Utilities','YearRemodAdd','GarageYrBlt'], inplace=True)"
   ]
  },
  {
   "cell_type": "code",
   "execution_count": 63,
   "id": "3f336fb7",
   "metadata": {},
   "outputs": [],
   "source": [
    "f_train = train.copy()"
   ]
  },
  {
   "cell_type": "code",
   "execution_count": 64,
   "id": "203338e8",
   "metadata": {},
   "outputs": [
    {
     "name": "stdout",
     "output_type": "stream",
     "text": [
      "dropping column : MSZoning\n",
      "dropping column : Street\n",
      "dropping column : LotShape\n",
      "dropping column : LandContour\n",
      "dropping column : LotConfig\n",
      "dropping column : LandSlope\n",
      "dropping column : Condition1\n",
      "dropping column : Condition2\n",
      "dropping column : BldgType\n",
      "dropping column : RoofStyle\n",
      "dropping column : RoofMatl\n",
      "dropping column : ExterQual\n",
      "dropping column : ExterCond\n",
      "dropping column : BsmtCond\n",
      "dropping column : BsmtExposure\n",
      "dropping column : BsmtFinType2\n",
      "dropping column : Heating\n",
      "dropping column : CentralAir\n",
      "dropping column : Electrical\n",
      "dropping column : LowQualFinSF\n",
      "dropping column : BsmtHalfBath\n",
      "dropping column : HalfBath\n",
      "dropping column : KitchenAbvGr\n",
      "dropping column : Functional\n",
      "dropping column : GarageQual\n",
      "dropping column : GarageCond\n",
      "dropping column : PavedDrive\n",
      "dropping column : 3SsnPorch\n",
      "dropping column : Fence\n",
      "dropping column : SaleType\n",
      "dropping column : SaleCondition\n"
     ]
    },
    {
     "data": {
      "text/plain": [
       "(1412, 41)"
      ]
     },
     "execution_count": 64,
     "metadata": {},
     "output_type": "execute_result"
    }
   ],
   "source": [
    "num_values = len(train)\n",
    "for x in train.columns: \n",
    "    num_unique = train[x].nunique()\n",
    "    \n",
    "\n",
    "    if (num_unique <30):\n",
    "        v_count= train[x].value_counts()\n",
    "        single_value = round(v_count.iloc[0] / num_values,2)\n",
    "        \n",
    "        \n",
    "        if (single_value > .60) :\n",
    "            print(f\"dropping column : {x}\")\n",
    "            f_train.drop(columns=x, inplace = True)\n",
    "f_train.shape"
   ]
  },
  {
   "cell_type": "code",
   "execution_count": 65,
   "id": "82041c2e",
   "metadata": {},
   "outputs": [
    {
     "data": {
      "text/plain": [
       "Index(['MSSubClass', 'LotFrontage', 'LotArea', 'Neighborhood', 'HouseStyle',\n",
       "       'OverallQual', 'OverallCond', 'YearBuilt', 'Exterior1st', 'Exterior2nd',\n",
       "       'MasVnrType', 'MasVnrArea', 'Foundation', 'BsmtQual', 'BsmtFinType1',\n",
       "       'BsmtFinSF1', 'BsmtFinSF2', 'BsmtUnfSF', 'TotalBsmtSF', 'HeatingQC',\n",
       "       '1stFlrSF', '2ndFlrSF', 'GrLivArea', 'BsmtFullBath', 'FullBath',\n",
       "       'BedroomAbvGr', 'KitchenQual', 'TotRmsAbvGrd', 'Fireplaces',\n",
       "       'FireplaceQu', 'GarageType', 'GarageFinish', 'GarageCars', 'GarageArea',\n",
       "       'WoodDeckSF', 'OpenPorchSF', 'EnclosedPorch', 'ScreenPorch', 'MoSold',\n",
       "       'YrSold', 'SalePrice'],\n",
       "      dtype='object')"
      ]
     },
     "execution_count": 65,
     "metadata": {},
     "output_type": "execute_result"
    }
   ],
   "source": [
    "f_train.columns"
   ]
  },
  {
   "cell_type": "code",
   "execution_count": 70,
   "id": "8ba33512",
   "metadata": {},
   "outputs": [],
   "source": [
    "f_train2 = f_train.drop(columns=['BsmtFinSF2','BsmtFinSF1','BsmtUnfSF','2ndFlrSF','1stFlrSF'])"
   ]
  },
  {
   "cell_type": "code",
   "execution_count": 73,
   "id": "944541f4",
   "metadata": {},
   "outputs": [
    {
     "data": {
      "text/plain": [
       "0        61\n",
       "1       298\n",
       "2        42\n",
       "3       307\n",
       "4       276\n",
       "       ... \n",
       "1407     40\n",
       "1408    349\n",
       "1409     60\n",
       "1410    478\n",
       "1411    804\n",
       "Name: outdoorAreaSF, Length: 1412, dtype: int64"
      ]
     },
     "execution_count": 73,
     "metadata": {},
     "output_type": "execute_result"
    }
   ],
   "source": [
    "f_train2['outdoorAreaSF'] = f_train2['OpenPorchSF']+f_train2['EnclosedPorch']+f_train2['ScreenPorch']+f_train2['WoodDeckSF']\n",
    "f_train2['outdoorAreaSF']"
   ]
  },
  {
   "cell_type": "code",
   "execution_count": 76,
   "id": "031275af",
   "metadata": {},
   "outputs": [],
   "source": [
    "f_train3 = f_train2.drop(columns = ['OpenPorchSF','EnclosedPorch','ScreenPorch','WoodDeckSF'])"
   ]
  },
  {
   "cell_type": "code",
   "execution_count": 77,
   "id": "67b726c9",
   "metadata": {},
   "outputs": [
    {
     "data": {
      "text/plain": [
       "Index(['MSSubClass', 'LotFrontage', 'LotArea', 'Neighborhood', 'HouseStyle',\n",
       "       'OverallQual', 'OverallCond', 'YearBuilt', 'Exterior1st', 'Exterior2nd',\n",
       "       'MasVnrType', 'MasVnrArea', 'Foundation', 'BsmtQual', 'BsmtFinType1',\n",
       "       'TotalBsmtSF', 'HeatingQC', 'GrLivArea', 'BsmtFullBath', 'FullBath',\n",
       "       'BedroomAbvGr', 'KitchenQual', 'TotRmsAbvGrd', 'Fireplaces',\n",
       "       'FireplaceQu', 'GarageType', 'GarageFinish', 'GarageCars', 'GarageArea',\n",
       "       'MoSold', 'YrSold', 'SalePrice', 'outdoorAreaSF'],\n",
       "      dtype='object')"
      ]
     },
     "execution_count": 77,
     "metadata": {},
     "output_type": "execute_result"
    }
   ],
   "source": [
    "f_train3.columns"
   ]
  },
  {
   "cell_type": "code",
   "execution_count": 93,
   "id": "f3e8719f",
   "metadata": {},
   "outputs": [],
   "source": [
    "discrete=[]\n",
    "\n",
    "for x in f_train3.columns: \n",
    "    num_unique = f_train3[x].nunique()\n",
    "    if (num_unique <30):\n",
    "            discrete.append(x)"
   ]
  },
  {
   "cell_type": "code",
   "execution_count": 94,
   "id": "ee51793e",
   "metadata": {},
   "outputs": [
    {
     "data": {
      "text/plain": [
       "['MSSubClass',\n",
       " 'Neighborhood',\n",
       " 'HouseStyle',\n",
       " 'OverallQual',\n",
       " 'OverallCond',\n",
       " 'Exterior1st',\n",
       " 'Exterior2nd',\n",
       " 'MasVnrType',\n",
       " 'Foundation',\n",
       " 'BsmtQual',\n",
       " 'BsmtFinType1',\n",
       " 'HeatingQC',\n",
       " 'BsmtFullBath',\n",
       " 'FullBath',\n",
       " 'BedroomAbvGr',\n",
       " 'KitchenQual',\n",
       " 'TotRmsAbvGrd',\n",
       " 'Fireplaces',\n",
       " 'FireplaceQu',\n",
       " 'GarageType',\n",
       " 'GarageFinish',\n",
       " 'GarageCars',\n",
       " 'MoSold',\n",
       " 'YrSold']"
      ]
     },
     "execution_count": 94,
     "metadata": {},
     "output_type": "execute_result"
    }
   ],
   "source": [
    "discrete"
   ]
  },
  {
   "cell_type": "code",
   "execution_count": 91,
   "id": "ee5379f2",
   "metadata": {},
   "outputs": [
    {
     "data": {
      "text/plain": [
       "25"
      ]
     },
     "execution_count": 91,
     "metadata": {},
     "output_type": "execute_result"
    }
   ],
   "source": [
    "f_train3['Neighborhood'].nunique()"
   ]
  },
  {
   "cell_type": "code",
   "execution_count": 97,
   "id": "1083adb9",
   "metadata": {},
   "outputs": [
    {
     "data": {
      "text/html": [
       "<div>\n",
       "<style scoped>\n",
       "    .dataframe tbody tr th:only-of-type {\n",
       "        vertical-align: middle;\n",
       "    }\n",
       "\n",
       "    .dataframe tbody tr th {\n",
       "        vertical-align: top;\n",
       "    }\n",
       "\n",
       "    .dataframe thead th {\n",
       "        text-align: right;\n",
       "    }\n",
       "</style>\n",
       "<table border=\"1\" class=\"dataframe\">\n",
       "  <thead>\n",
       "    <tr style=\"text-align: right;\">\n",
       "      <th></th>\n",
       "      <th>MSSubClass</th>\n",
       "      <th>LotFrontage</th>\n",
       "      <th>LotArea</th>\n",
       "      <th>OverallQual</th>\n",
       "      <th>OverallCond</th>\n",
       "      <th>YearBuilt</th>\n",
       "      <th>MasVnrArea</th>\n",
       "      <th>TotalBsmtSF</th>\n",
       "      <th>GrLivArea</th>\n",
       "      <th>BsmtFullBath</th>\n",
       "      <th>FullBath</th>\n",
       "      <th>BedroomAbvGr</th>\n",
       "      <th>TotRmsAbvGrd</th>\n",
       "      <th>Fireplaces</th>\n",
       "      <th>GarageCars</th>\n",
       "      <th>GarageArea</th>\n",
       "      <th>MoSold</th>\n",
       "      <th>YrSold</th>\n",
       "      <th>SalePrice</th>\n",
       "      <th>outdoorAreaSF</th>\n",
       "    </tr>\n",
       "  </thead>\n",
       "  <tbody>\n",
       "    <tr>\n",
       "      <th>0</th>\n",
       "      <td>60</td>\n",
       "      <td>65.0</td>\n",
       "      <td>8450</td>\n",
       "      <td>7</td>\n",
       "      <td>5</td>\n",
       "      <td>2003</td>\n",
       "      <td>196.0</td>\n",
       "      <td>856</td>\n",
       "      <td>1710</td>\n",
       "      <td>1</td>\n",
       "      <td>2</td>\n",
       "      <td>3</td>\n",
       "      <td>8</td>\n",
       "      <td>0</td>\n",
       "      <td>2</td>\n",
       "      <td>548</td>\n",
       "      <td>2</td>\n",
       "      <td>2008</td>\n",
       "      <td>208500</td>\n",
       "      <td>61</td>\n",
       "    </tr>\n",
       "    <tr>\n",
       "      <th>1</th>\n",
       "      <td>20</td>\n",
       "      <td>80.0</td>\n",
       "      <td>9600</td>\n",
       "      <td>6</td>\n",
       "      <td>8</td>\n",
       "      <td>1976</td>\n",
       "      <td>0.0</td>\n",
       "      <td>1262</td>\n",
       "      <td>1262</td>\n",
       "      <td>0</td>\n",
       "      <td>2</td>\n",
       "      <td>3</td>\n",
       "      <td>6</td>\n",
       "      <td>1</td>\n",
       "      <td>2</td>\n",
       "      <td>460</td>\n",
       "      <td>5</td>\n",
       "      <td>2007</td>\n",
       "      <td>181500</td>\n",
       "      <td>298</td>\n",
       "    </tr>\n",
       "    <tr>\n",
       "      <th>2</th>\n",
       "      <td>60</td>\n",
       "      <td>68.0</td>\n",
       "      <td>11250</td>\n",
       "      <td>7</td>\n",
       "      <td>5</td>\n",
       "      <td>2001</td>\n",
       "      <td>162.0</td>\n",
       "      <td>920</td>\n",
       "      <td>1786</td>\n",
       "      <td>1</td>\n",
       "      <td>2</td>\n",
       "      <td>3</td>\n",
       "      <td>6</td>\n",
       "      <td>1</td>\n",
       "      <td>2</td>\n",
       "      <td>608</td>\n",
       "      <td>9</td>\n",
       "      <td>2008</td>\n",
       "      <td>223500</td>\n",
       "      <td>42</td>\n",
       "    </tr>\n",
       "    <tr>\n",
       "      <th>3</th>\n",
       "      <td>70</td>\n",
       "      <td>60.0</td>\n",
       "      <td>9550</td>\n",
       "      <td>7</td>\n",
       "      <td>5</td>\n",
       "      <td>1915</td>\n",
       "      <td>0.0</td>\n",
       "      <td>756</td>\n",
       "      <td>1717</td>\n",
       "      <td>1</td>\n",
       "      <td>1</td>\n",
       "      <td>3</td>\n",
       "      <td>7</td>\n",
       "      <td>1</td>\n",
       "      <td>3</td>\n",
       "      <td>642</td>\n",
       "      <td>2</td>\n",
       "      <td>2006</td>\n",
       "      <td>140000</td>\n",
       "      <td>307</td>\n",
       "    </tr>\n",
       "    <tr>\n",
       "      <th>4</th>\n",
       "      <td>60</td>\n",
       "      <td>84.0</td>\n",
       "      <td>14260</td>\n",
       "      <td>8</td>\n",
       "      <td>5</td>\n",
       "      <td>2000</td>\n",
       "      <td>350.0</td>\n",
       "      <td>1145</td>\n",
       "      <td>2198</td>\n",
       "      <td>1</td>\n",
       "      <td>2</td>\n",
       "      <td>4</td>\n",
       "      <td>9</td>\n",
       "      <td>1</td>\n",
       "      <td>3</td>\n",
       "      <td>836</td>\n",
       "      <td>12</td>\n",
       "      <td>2008</td>\n",
       "      <td>250000</td>\n",
       "      <td>276</td>\n",
       "    </tr>\n",
       "    <tr>\n",
       "      <th>...</th>\n",
       "      <td>...</td>\n",
       "      <td>...</td>\n",
       "      <td>...</td>\n",
       "      <td>...</td>\n",
       "      <td>...</td>\n",
       "      <td>...</td>\n",
       "      <td>...</td>\n",
       "      <td>...</td>\n",
       "      <td>...</td>\n",
       "      <td>...</td>\n",
       "      <td>...</td>\n",
       "      <td>...</td>\n",
       "      <td>...</td>\n",
       "      <td>...</td>\n",
       "      <td>...</td>\n",
       "      <td>...</td>\n",
       "      <td>...</td>\n",
       "      <td>...</td>\n",
       "      <td>...</td>\n",
       "      <td>...</td>\n",
       "    </tr>\n",
       "    <tr>\n",
       "      <th>1407</th>\n",
       "      <td>60</td>\n",
       "      <td>62.0</td>\n",
       "      <td>7917</td>\n",
       "      <td>6</td>\n",
       "      <td>5</td>\n",
       "      <td>1999</td>\n",
       "      <td>0.0</td>\n",
       "      <td>953</td>\n",
       "      <td>1647</td>\n",
       "      <td>0</td>\n",
       "      <td>2</td>\n",
       "      <td>3</td>\n",
       "      <td>7</td>\n",
       "      <td>1</td>\n",
       "      <td>2</td>\n",
       "      <td>460</td>\n",
       "      <td>8</td>\n",
       "      <td>2007</td>\n",
       "      <td>175000</td>\n",
       "      <td>40</td>\n",
       "    </tr>\n",
       "    <tr>\n",
       "      <th>1408</th>\n",
       "      <td>20</td>\n",
       "      <td>85.0</td>\n",
       "      <td>13175</td>\n",
       "      <td>6</td>\n",
       "      <td>6</td>\n",
       "      <td>1978</td>\n",
       "      <td>119.0</td>\n",
       "      <td>1542</td>\n",
       "      <td>2073</td>\n",
       "      <td>1</td>\n",
       "      <td>2</td>\n",
       "      <td>3</td>\n",
       "      <td>7</td>\n",
       "      <td>2</td>\n",
       "      <td>2</td>\n",
       "      <td>500</td>\n",
       "      <td>2</td>\n",
       "      <td>2010</td>\n",
       "      <td>210000</td>\n",
       "      <td>349</td>\n",
       "    </tr>\n",
       "    <tr>\n",
       "      <th>1409</th>\n",
       "      <td>70</td>\n",
       "      <td>66.0</td>\n",
       "      <td>9042</td>\n",
       "      <td>7</td>\n",
       "      <td>9</td>\n",
       "      <td>1941</td>\n",
       "      <td>0.0</td>\n",
       "      <td>1152</td>\n",
       "      <td>2340</td>\n",
       "      <td>0</td>\n",
       "      <td>2</td>\n",
       "      <td>4</td>\n",
       "      <td>9</td>\n",
       "      <td>2</td>\n",
       "      <td>1</td>\n",
       "      <td>252</td>\n",
       "      <td>5</td>\n",
       "      <td>2010</td>\n",
       "      <td>266500</td>\n",
       "      <td>60</td>\n",
       "    </tr>\n",
       "    <tr>\n",
       "      <th>1410</th>\n",
       "      <td>20</td>\n",
       "      <td>68.0</td>\n",
       "      <td>9717</td>\n",
       "      <td>5</td>\n",
       "      <td>6</td>\n",
       "      <td>1950</td>\n",
       "      <td>0.0</td>\n",
       "      <td>1078</td>\n",
       "      <td>1078</td>\n",
       "      <td>1</td>\n",
       "      <td>1</td>\n",
       "      <td>2</td>\n",
       "      <td>5</td>\n",
       "      <td>0</td>\n",
       "      <td>1</td>\n",
       "      <td>240</td>\n",
       "      <td>4</td>\n",
       "      <td>2010</td>\n",
       "      <td>142125</td>\n",
       "      <td>478</td>\n",
       "    </tr>\n",
       "    <tr>\n",
       "      <th>1411</th>\n",
       "      <td>20</td>\n",
       "      <td>75.0</td>\n",
       "      <td>9937</td>\n",
       "      <td>5</td>\n",
       "      <td>6</td>\n",
       "      <td>1965</td>\n",
       "      <td>0.0</td>\n",
       "      <td>1256</td>\n",
       "      <td>1256</td>\n",
       "      <td>1</td>\n",
       "      <td>1</td>\n",
       "      <td>3</td>\n",
       "      <td>6</td>\n",
       "      <td>0</td>\n",
       "      <td>1</td>\n",
       "      <td>276</td>\n",
       "      <td>6</td>\n",
       "      <td>2008</td>\n",
       "      <td>147500</td>\n",
       "      <td>804</td>\n",
       "    </tr>\n",
       "  </tbody>\n",
       "</table>\n",
       "<p>1412 rows × 20 columns</p>\n",
       "</div>"
      ],
      "text/plain": [
       "      MSSubClass  LotFrontage  LotArea  OverallQual  OverallCond  YearBuilt  \\\n",
       "0             60         65.0     8450            7            5       2003   \n",
       "1             20         80.0     9600            6            8       1976   \n",
       "2             60         68.0    11250            7            5       2001   \n",
       "3             70         60.0     9550            7            5       1915   \n",
       "4             60         84.0    14260            8            5       2000   \n",
       "...          ...          ...      ...          ...          ...        ...   \n",
       "1407          60         62.0     7917            6            5       1999   \n",
       "1408          20         85.0    13175            6            6       1978   \n",
       "1409          70         66.0     9042            7            9       1941   \n",
       "1410          20         68.0     9717            5            6       1950   \n",
       "1411          20         75.0     9937            5            6       1965   \n",
       "\n",
       "      MasVnrArea  TotalBsmtSF  GrLivArea  BsmtFullBath  FullBath  \\\n",
       "0          196.0          856       1710             1         2   \n",
       "1            0.0         1262       1262             0         2   \n",
       "2          162.0          920       1786             1         2   \n",
       "3            0.0          756       1717             1         1   \n",
       "4          350.0         1145       2198             1         2   \n",
       "...          ...          ...        ...           ...       ...   \n",
       "1407         0.0          953       1647             0         2   \n",
       "1408       119.0         1542       2073             1         2   \n",
       "1409         0.0         1152       2340             0         2   \n",
       "1410         0.0         1078       1078             1         1   \n",
       "1411         0.0         1256       1256             1         1   \n",
       "\n",
       "      BedroomAbvGr  TotRmsAbvGrd  Fireplaces  GarageCars  GarageArea  MoSold  \\\n",
       "0                3             8           0           2         548       2   \n",
       "1                3             6           1           2         460       5   \n",
       "2                3             6           1           2         608       9   \n",
       "3                3             7           1           3         642       2   \n",
       "4                4             9           1           3         836      12   \n",
       "...            ...           ...         ...         ...         ...     ...   \n",
       "1407             3             7           1           2         460       8   \n",
       "1408             3             7           2           2         500       2   \n",
       "1409             4             9           2           1         252       5   \n",
       "1410             2             5           0           1         240       4   \n",
       "1411             3             6           0           1         276       6   \n",
       "\n",
       "      YrSold  SalePrice  outdoorAreaSF  \n",
       "0       2008     208500             61  \n",
       "1       2007     181500            298  \n",
       "2       2008     223500             42  \n",
       "3       2006     140000            307  \n",
       "4       2008     250000            276  \n",
       "...      ...        ...            ...  \n",
       "1407    2007     175000             40  \n",
       "1408    2010     210000            349  \n",
       "1409    2010     266500             60  \n",
       "1410    2010     142125            478  \n",
       "1411    2008     147500            804  \n",
       "\n",
       "[1412 rows x 20 columns]"
      ]
     },
     "execution_count": 97,
     "metadata": {},
     "output_type": "execute_result"
    }
   ],
   "source": [
    "f_train3.select_dtypes(include=['number'])"
   ]
  },
  {
   "cell_type": "code",
   "execution_count": 98,
   "id": "23952058",
   "metadata": {},
   "outputs": [],
   "source": [
    "numeric_classes = ['MSSubClass', 'OverallQual','OverallCond']"
   ]
  },
  {
   "cell_type": "code",
   "execution_count": 99,
   "id": "35654440",
   "metadata": {},
   "outputs": [],
   "source": [
    "to_scale=f_train3.select_dtypes(include=['number']).drop(columns=numeric_classes)"
   ]
  },
  {
   "cell_type": "code",
   "execution_count": 101,
   "id": "4829ad2f",
   "metadata": {},
   "outputs": [],
   "source": [
    "scale_these = to_scale.columns"
   ]
  },
  {
   "cell_type": "code",
   "execution_count": 102,
   "id": "bf851ea8",
   "metadata": {},
   "outputs": [
    {
     "data": {
      "text/plain": [
       "Index(['LotFrontage', 'LotArea', 'YearBuilt', 'MasVnrArea', 'TotalBsmtSF',\n",
       "       'GrLivArea', 'BsmtFullBath', 'FullBath', 'BedroomAbvGr', 'TotRmsAbvGrd',\n",
       "       'Fireplaces', 'GarageCars', 'GarageArea', 'MoSold', 'YrSold',\n",
       "       'SalePrice', 'outdoorAreaSF'],\n",
       "      dtype='object')"
      ]
     },
     "execution_count": 102,
     "metadata": {},
     "output_type": "execute_result"
    }
   ],
   "source": [
    "scale_these"
   ]
  },
  {
   "cell_type": "code",
   "execution_count": 105,
   "id": "24ee1d5a",
   "metadata": {},
   "outputs": [],
   "source": [
    "label_encode = f_train3.select_dtypes(exclude=['number']).columns"
   ]
  },
  {
   "cell_type": "code",
   "execution_count": null,
   "id": "13f31a0b",
   "metadata": {},
   "outputs": [],
   "source": [
    "onehot = numeric_classes+label_encode\n",
    "def encoder (): \n",
    "    for x in label_encode:\n",
    "        label = le.fit_transform(x)\n",
    "        f_train3[x]=label\n",
    "        \n",
    "        for x in onehot: \n",
    "            one_hot = encoder.fit_transform(x)\n",
    "            f_train3.drop(x)\n",
    "    "
   ]
  }
 ],
 "metadata": {
  "kernelspec": {
   "display_name": "Python [conda env:PythonAdv] *",
   "language": "python",
   "name": "conda-env-PythonAdv-py"
  },
  "language_info": {
   "codemirror_mode": {
    "name": "ipython",
    "version": 3
   },
   "file_extension": ".py",
   "mimetype": "text/x-python",
   "name": "python",
   "nbconvert_exporter": "python",
   "pygments_lexer": "ipython3",
   "version": "3.6.13"
  }
 },
 "nbformat": 4,
 "nbformat_minor": 5
}
