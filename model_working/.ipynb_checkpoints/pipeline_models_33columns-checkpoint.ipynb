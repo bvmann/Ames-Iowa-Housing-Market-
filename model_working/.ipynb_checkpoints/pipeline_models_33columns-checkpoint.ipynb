{
 "cells": [
  {
   "cell_type": "code",
   "execution_count": 112,
   "id": "ef942acc",
   "metadata": {},
   "outputs": [],
   "source": [
    "import pandas as pd \n",
    "\n",
    "import numpy as np \n",
    "from sklearn.preprocessing import LabelEncoder\n",
    "from sklearn.preprocessing import OneHotEncoder\n",
    "from sklearn.preprocessing import minmax_scale\n",
    "from sklearn.model_selection import train_test_split"
   ]
  },
  {
   "cell_type": "code",
   "execution_count": 113,
   "id": "d1019dfb",
   "metadata": {},
   "outputs": [],
   "source": [
    "f_train=pd.read_csv(\"../Resources/thirtythree.csv\")"
   ]
  },
  {
   "cell_type": "markdown",
   "id": "a6b84980",
   "metadata": {},
   "source": [
    "## Workbook in which I created my pipeline and tried out KNN regressor and Random Forest Regressor "
   ]
  },
  {
   "cell_type": "markdown",
   "id": "2a09e9f1",
   "metadata": {},
   "source": [
    "# Pipeline creation \n",
    "###### label encoder then get_dummies"
   ]
  },
  {
   "cell_type": "code",
   "execution_count": 114,
   "id": "7af42864",
   "metadata": {},
   "outputs": [],
   "source": [
    "def label (df):\n",
    "    le=LabelEncoder()\n",
    "    encoder=OneHotEncoder()\n",
    "    label_encode = df.select_dtypes(exclude=['number']).columns.tolist()\n",
    "    \n",
    "\n",
    "    for x in label_encode:\n",
    "        col = df[x]\n",
    "        label = le.fit_transform(col)\n",
    "        df[x]=label\n",
    "      \n",
    "    return df  "
   ]
  },
  {
   "cell_type": "code",
   "execution_count": 115,
   "id": "ed8de684",
   "metadata": {},
   "outputs": [],
   "source": [
    "def onehot(df):\n",
    "    #label_encode = df.select_dtypes(exclude=['number']).columns.tolist()\n",
    "    #numeric_classes = ['MSSubClass', 'OverallQual','OverallCond']\n",
    "    onehot = ['MSSubClass',\n",
    " 'OverallQual',\n",
    " 'OverallCond',\n",
    " 'Neighborhood',\n",
    " 'HouseStyle',\n",
    " 'Exterior1st',\n",
    " 'Exterior2nd',\n",
    " 'MasVnrType',\n",
    " 'Foundation',\n",
    " 'BsmtQual',\n",
    " 'BsmtFinType1',\n",
    " 'HeatingQC',\n",
    " 'KitchenQual',\n",
    " 'FireplaceQu',\n",
    " 'GarageType',\n",
    " 'GarageFinish']\n",
    "    for x in onehot: \n",
    "        \n",
    "        df[x]=df[x].astype('object')\n",
    "        one_hot = pd.get_dummies(df[x])\n",
    "        df.drop(columns=[x], inplace=True)\n",
    "        one_hot = one_hot.add_prefix(x + '_')\n",
    "        df=df.join(one_hot)\n",
    "    return df "
   ]
  },
  {
   "cell_type": "code",
   "execution_count": 116,
   "id": "a91c15ca",
   "metadata": {},
   "outputs": [],
   "source": [
    "def split_scale(df): \n",
    "    scale_list = ['LotFrontage', 'LotArea', 'YearBuilt', 'MasVnrArea', 'TotalBsmtSF',\n",
    "       'GrLivArea', 'BsmtFullBath', 'FullBath', 'BedroomAbvGr', 'TotRmsAbvGrd',\n",
    "       'Fireplaces', 'GarageCars', 'GarageArea','outdoorAreaSF']\n",
    "    X = df.drop('SalePrice', axis = 1)\n",
    "    y = df['SalePrice']\n",
    "    X_train, X_test, y_train, y_test = train_test_split(X, y, random_state=42)\n",
    "    X_train[scale_list] = minmax_scale(X_train[scale_list])\n",
    "    X_test[scale_list] = minmax_scale(X_test[scale_list])\n",
    "    \n",
    "    return df"
   ]
  },
  {
   "cell_type": "code",
   "execution_count": 117,
   "id": "3bf156f2",
   "metadata": {},
   "outputs": [],
   "source": [
    "def pipeline(df):\n",
    "    df.drop(columns=['MoSold','YrSold'])\n",
    "    df = (df.pipe(label)\n",
    "         .pipe(onehot))\n",
    "    return df "
   ]
  },
  {
   "cell_type": "code",
   "execution_count": 118,
   "id": "6e74f8e5",
   "metadata": {},
   "outputs": [],
   "source": [
    "def pipeline(df):\n",
    "    df.drop(columns=['MoSold','YrSold'])\n",
    "    df = (df.pipe(label)\n",
    "         .pipe(onehot))\n",
    "         #.pipe(split_scale))\n",
    "    return df"
   ]
  },
  {
   "cell_type": "code",
   "execution_count": 119,
   "id": "42c3975b",
   "metadata": {
    "scrolled": false
   },
   "outputs": [],
   "source": [
    "df = pipeline(f_train)"
   ]
  },
  {
   "cell_type": "markdown",
   "id": "216f9f46",
   "metadata": {},
   "source": [
    "# KNN model test"
   ]
  },
  {
   "cell_type": "code",
   "execution_count": 120,
   "id": "1584e325",
   "metadata": {
    "scrolled": true
   },
   "outputs": [
    {
     "name": "stderr",
     "output_type": "stream",
     "text": [
      "C:\\Users\\Public\\Downloads\\Anaconda\\envs\\PythonAdv\\lib\\site-packages\\ipykernel_launcher.py:7: SettingWithCopyWarning: \n",
      "A value is trying to be set on a copy of a slice from a DataFrame.\n",
      "Try using .loc[row_indexer,col_indexer] = value instead\n",
      "\n",
      "See the caveats in the documentation: https://pandas.pydata.org/pandas-docs/stable/user_guide/indexing.html#returning-a-view-versus-a-copy\n",
      "  import sys\n",
      "C:\\Users\\Public\\Downloads\\Anaconda\\envs\\PythonAdv\\lib\\site-packages\\pandas\\core\\indexing.py:1734: SettingWithCopyWarning: \n",
      "A value is trying to be set on a copy of a slice from a DataFrame.\n",
      "Try using .loc[row_indexer,col_indexer] = value instead\n",
      "\n",
      "See the caveats in the documentation: https://pandas.pydata.org/pandas-docs/stable/user_guide/indexing.html#returning-a-view-versus-a-copy\n",
      "  isetter(loc, value[:, i].tolist())\n",
      "C:\\Users\\Public\\Downloads\\Anaconda\\envs\\PythonAdv\\lib\\site-packages\\ipykernel_launcher.py:8: SettingWithCopyWarning: \n",
      "A value is trying to be set on a copy of a slice from a DataFrame.\n",
      "Try using .loc[row_indexer,col_indexer] = value instead\n",
      "\n",
      "See the caveats in the documentation: https://pandas.pydata.org/pandas-docs/stable/user_guide/indexing.html#returning-a-view-versus-a-copy\n",
      "  \n",
      "C:\\Users\\Public\\Downloads\\Anaconda\\envs\\PythonAdv\\lib\\site-packages\\pandas\\core\\indexing.py:1734: SettingWithCopyWarning: \n",
      "A value is trying to be set on a copy of a slice from a DataFrame.\n",
      "Try using .loc[row_indexer,col_indexer] = value instead\n",
      "\n",
      "See the caveats in the documentation: https://pandas.pydata.org/pandas-docs/stable/user_guide/indexing.html#returning-a-view-versus-a-copy\n",
      "  isetter(loc, value[:, i].tolist())\n"
     ]
    }
   ],
   "source": [
    "scale_list = ['LotFrontage', 'LotArea', 'YearBuilt', 'MasVnrArea', 'TotalBsmtSF',\n",
    "       'GrLivArea', 'BsmtFullBath', 'FullBath', 'BedroomAbvGr', 'TotRmsAbvGrd',\n",
    "       'Fireplaces', 'GarageCars', 'GarageArea','outdoorAreaSF']\n",
    "X = df.drop('SalePrice', axis = 1)\n",
    "y = df['SalePrice']\n",
    "X_train, X_test, y_train, y_test = train_test_split(X, y, random_state=42)\n",
    "X_train[scale_list] = minmax_scale(X_train[scale_list])\n",
    "X_test[scale_list] = minmax_scale(X_test[scale_list])"
   ]
  },
  {
   "cell_type": "code",
   "execution_count": 121,
   "id": "dd74964d",
   "metadata": {},
   "outputs": [
    {
     "name": "stdout",
     "output_type": "stream",
     "text": [
      "k: 1, Train/Test Score: 1.000/0.621\n",
      "k: 3, Train/Test Score: 0.837/0.680\n",
      "k: 5, Train/Test Score: 0.792/0.658\n",
      "k: 7, Train/Test Score: 0.761/0.674\n",
      "k: 9, Train/Test Score: 0.741/0.677\n",
      "k: 11, Train/Test Score: 0.721/0.668\n",
      "k: 13, Train/Test Score: 0.707/0.665\n",
      "k: 15, Train/Test Score: 0.695/0.653\n",
      "k: 17, Train/Test Score: 0.688/0.652\n",
      "k: 19, Train/Test Score: 0.679/0.645\n",
      "k: 21, Train/Test Score: 0.673/0.643\n",
      "k: 23, Train/Test Score: 0.666/0.643\n",
      "k: 25, Train/Test Score: 0.661/0.638\n",
      "k: 27, Train/Test Score: 0.652/0.631\n",
      "k: 29, Train/Test Score: 0.645/0.627\n",
      "k: 31, Train/Test Score: 0.639/0.622\n",
      "k: 33, Train/Test Score: 0.633/0.619\n",
      "k: 35, Train/Test Score: 0.627/0.614\n",
      "k: 37, Train/Test Score: 0.622/0.607\n",
      "k: 39, Train/Test Score: 0.616/0.603\n",
      "k: 41, Train/Test Score: 0.611/0.600\n",
      "k: 43, Train/Test Score: 0.607/0.596\n",
      "k: 45, Train/Test Score: 0.603/0.589\n",
      "k: 47, Train/Test Score: 0.599/0.586\n",
      "k: 49, Train/Test Score: 0.595/0.581\n"
     ]
    }
   ],
   "source": [
    "from sklearn.neighbors import KNeighborsRegressor\n",
    "import matplotlib.pyplot as plt \n",
    "train_scores = []\n",
    "test_scores = []\n",
    "for k in range(1, 50, 2):\n",
    "    knn = KNeighborsRegressor(n_neighbors=k)\n",
    "    knn.fit(X_train, y_train)\n",
    "    train_score = knn.score(X_train, y_train)\n",
    "    test_score = knn.score(X_test, y_test)\n",
    "    train_scores.append(train_score)\n",
    "    test_scores.append(test_score)\n",
    "    print(f\"k: {k}, Train/Test Score: {train_score:.3f}/{test_score:.3f}\")"
   ]
  },
  {
   "cell_type": "code",
   "execution_count": 122,
   "id": "edb69916",
   "metadata": {},
   "outputs": [
    {
     "data": {
      "image/png": "[encoded data removed]",
      "text/plain": [
       "<Figure size 432x288 with 1 Axes>"
      ]
     },
     "metadata": {
      "needs_background": "light"
     },
     "output_type": "display_data"
    }
   ],
   "source": [
    "import matplotlib.pyplot as plt \n",
    "plt.plot(range(1, 50, 2), train_scores, marker='o')\n",
    "plt.plot(range(1, 50, 2), test_scores, marker=\"x\")\n",
    "plt.xlabel(\"k neighbors\")\n",
    "plt.ylabel(\"Testing accuracy Score\")\n",
    "plt.show()"
   ]
  },
  {
   "cell_type": "code",
   "execution_count": 152,
   "id": "3adbcafd",
   "metadata": {},
   "outputs": [
    {
     "data": {
      "text/plain": [
       "0.530074627356264"
      ]
     },
     "execution_count": 152,
     "metadata": {},
     "output_type": "execute_result"
    }
   ],
   "source": [
    "knn = KNeighborsRegressor(n_neighbors = 45)\n",
    "knn.fit(X_train, y_train)\n",
    "knn.score(X_test,y_test)"
   ]
  },
  {
   "cell_type": "code",
   "execution_count": 153,
   "id": "373b0d53",
   "metadata": {},
   "outputs": [
    {
     "data": {
      "text/html": [
       "<div>\n",
       "<style scoped>\n",
       "    .dataframe tbody tr th:only-of-type {\n",
       "        vertical-align: middle;\n",
       "    }\n",
       "\n",
       "    .dataframe tbody tr th {\n",
       "        vertical-align: top;\n",
       "    }\n",
       "\n",
       "    .dataframe thead th {\n",
       "        text-align: right;\n",
       "    }\n",
       "</style>\n",
       "<table border=\"1\" class=\"dataframe\">\n",
       "  <thead>\n",
       "    <tr style=\"text-align: right;\">\n",
       "      <th></th>\n",
       "      <th>Prediction</th>\n",
       "      <th>Actual</th>\n",
       "    </tr>\n",
       "  </thead>\n",
       "  <tbody>\n",
       "    <tr>\n",
       "      <th>741</th>\n",
       "      <td>183133.0</td>\n",
       "      <td>270000</td>\n",
       "    </tr>\n",
       "    <tr>\n",
       "      <th>865</th>\n",
       "      <td>126615.0</td>\n",
       "      <td>122900</td>\n",
       "    </tr>\n",
       "    <tr>\n",
       "      <th>339</th>\n",
       "      <td>237365.0</td>\n",
       "      <td>437154</td>\n",
       "    </tr>\n",
       "    <tr>\n",
       "      <th>192</th>\n",
       "      <td>150236.0</td>\n",
       "      <td>104000</td>\n",
       "    </tr>\n",
       "    <tr>\n",
       "      <th>203</th>\n",
       "      <td>139526.0</td>\n",
       "      <td>145000</td>\n",
       "    </tr>\n",
       "    <tr>\n",
       "      <th>...</th>\n",
       "      <td>...</td>\n",
       "      <td>...</td>\n",
       "    </tr>\n",
       "    <tr>\n",
       "      <th>1027</th>\n",
       "      <td>256690.0</td>\n",
       "      <td>328000</td>\n",
       "    </tr>\n",
       "    <tr>\n",
       "      <th>966</th>\n",
       "      <td>132097.0</td>\n",
       "      <td>91000</td>\n",
       "    </tr>\n",
       "    <tr>\n",
       "      <th>613</th>\n",
       "      <td>182439.0</td>\n",
       "      <td>209500</td>\n",
       "    </tr>\n",
       "    <tr>\n",
       "      <th>382</th>\n",
       "      <td>142687.0</td>\n",
       "      <td>129000</td>\n",
       "    </tr>\n",
       "    <tr>\n",
       "      <th>941</th>\n",
       "      <td>133271.0</td>\n",
       "      <td>135000</td>\n",
       "    </tr>\n",
       "  </tbody>\n",
       "</table>\n",
       "<p>353 rows × 2 columns</p>\n",
       "</div>"
      ],
      "text/plain": [
       "      Prediction  Actual\n",
       "741     183133.0  270000\n",
       "865     126615.0  122900\n",
       "339     237365.0  437154\n",
       "192     150236.0  104000\n",
       "203     139526.0  145000\n",
       "...          ...     ...\n",
       "1027    256690.0  328000\n",
       "966     132097.0   91000\n",
       "613     182439.0  209500\n",
       "382     142687.0  129000\n",
       "941     133271.0  135000\n",
       "\n",
       "[353 rows x 2 columns]"
      ]
     },
     "execution_count": 153,
     "metadata": {},
     "output_type": "execute_result"
    }
   ],
   "source": [
    "predictions =knn.predict(X_test).round()\n",
    "pd.DataFrame({\"Prediction\": predictions, \"Actual\": y_test})"
   ]
  },
  {
   "cell_type": "markdown",
   "id": "428fac73",
   "metadata": {},
   "source": [
    "### Random Forest model test "
   ]
  },
  {
   "cell_type": "code",
   "execution_count": 125,
   "id": "fa69dfb1",
   "metadata": {},
   "outputs": [],
   "source": [
    "f_train=pd.read_csv(\"../Resources/thirtythree.csv\")"
   ]
  },
  {
   "cell_type": "code",
   "execution_count": 126,
   "id": "17a54637",
   "metadata": {},
   "outputs": [],
   "source": [
    "df = pipeline(f_train)"
   ]
  },
  {
   "cell_type": "code",
   "execution_count": 127,
   "id": "a1a9580f",
   "metadata": {},
   "outputs": [],
   "source": [
    "X = df.drop('SalePrice', axis = 1)\n",
    "y = df['SalePrice']"
   ]
  },
  {
   "cell_type": "code",
   "execution_count": 128,
   "id": "89c9b9e0",
   "metadata": {},
   "outputs": [],
   "source": [
    "from sklearn.ensemble import RandomForestRegressor"
   ]
  },
  {
   "cell_type": "code",
   "execution_count": 129,
   "id": "b8927c65",
   "metadata": {},
   "outputs": [],
   "source": [
    "rf = RandomForestRegressor()\n"
   ]
  },
  {
   "cell_type": "code",
   "execution_count": 130,
   "id": "e82f9a4a",
   "metadata": {},
   "outputs": [],
   "source": [
    "X_train, X_test, y_train, y_test = train_test_split(X, y, random_state=42)"
   ]
  },
  {
   "cell_type": "code",
   "execution_count": 131,
   "id": "99b0a443",
   "metadata": {},
   "outputs": [],
   "source": [
    "from sklearn.model_selection import GridSearchCV \n",
    "param_grid = {'n_estimators':[100,200,300,400,500,600,700]}\n",
    "grid = GridSearchCV(rf,param_grid, verbose=5)"
   ]
  },
  {
   "cell_type": "code",
   "execution_count": 132,
   "id": "20607942",
   "metadata": {
    "scrolled": true
   },
   "outputs": [
    {
     "name": "stdout",
     "output_type": "stream",
     "text": [
      "Fitting 5 folds for each of 7 candidates, totalling 35 fits\n",
      "[CV 1/5] END ..................n_estimators=100;, score=0.878 total time=   1.2s\n",
      "[CV 2/5] END ..................n_estimators=100;, score=0.863 total time=   1.1s\n",
      "[CV 3/5] END ..................n_estimators=100;, score=0.859 total time=   1.1s\n",
      "[CV 4/5] END ..................n_estimators=100;, score=0.736 total time=   1.1s\n",
      "[CV 5/5] END ..................n_estimators=100;, score=0.846 total time=   1.1s\n",
      "[CV 1/5] END ..................n_estimators=200;, score=0.877 total time=   2.3s\n",
      "[CV 2/5] END ..................n_estimators=200;, score=0.868 total time=   2.3s\n",
      "[CV 3/5] END ..................n_estimators=200;, score=0.853 total time=   2.3s\n",
      "[CV 4/5] END ..................n_estimators=200;, score=0.725 total time=   2.4s\n",
      "[CV 5/5] END ..................n_estimators=200;, score=0.849 total time=   2.3s\n",
      "[CV 1/5] END ..................n_estimators=300;, score=0.877 total time=   3.8s\n",
      "[CV 2/5] END ..................n_estimators=300;, score=0.870 total time=   3.6s\n",
      "[CV 3/5] END ..................n_estimators=300;, score=0.853 total time=   3.6s\n",
      "[CV 4/5] END ..................n_estimators=300;, score=0.747 total time=   3.6s\n",
      "[CV 5/5] END ..................n_estimators=300;, score=0.856 total time=   3.7s\n",
      "[CV 1/5] END ..................n_estimators=400;, score=0.880 total time=   4.8s\n",
      "[CV 2/5] END ..................n_estimators=400;, score=0.870 total time=   4.9s\n",
      "[CV 3/5] END ..................n_estimators=400;, score=0.851 total time=   5.0s\n",
      "[CV 4/5] END ..................n_estimators=400;, score=0.736 total time=   4.8s\n",
      "[CV 5/5] END ..................n_estimators=400;, score=0.852 total time=   5.0s\n",
      "[CV 1/5] END ..................n_estimators=500;, score=0.879 total time=   6.4s\n",
      "[CV 2/5] END ..................n_estimators=500;, score=0.867 total time=   6.4s\n",
      "[CV 3/5] END ..................n_estimators=500;, score=0.855 total time=   6.2s\n",
      "[CV 4/5] END ..................n_estimators=500;, score=0.737 total time=   6.5s\n",
      "[CV 5/5] END ..................n_estimators=500;, score=0.857 total time=   6.3s\n",
      "[CV 1/5] END ..................n_estimators=600;, score=0.881 total time=   7.6s\n",
      "[CV 2/5] END ..................n_estimators=600;, score=0.868 total time=   7.8s\n",
      "[CV 3/5] END ..................n_estimators=600;, score=0.851 total time=   7.3s\n",
      "[CV 4/5] END ..................n_estimators=600;, score=0.742 total time=   7.3s\n",
      "[CV 5/5] END ..................n_estimators=600;, score=0.853 total time=   8.0s\n",
      "[CV 1/5] END ..................n_estimators=700;, score=0.878 total time=   9.2s\n",
      "[CV 2/5] END ..................n_estimators=700;, score=0.866 total time=   8.6s\n",
      "[CV 3/5] END ..................n_estimators=700;, score=0.854 total time=   8.5s\n",
      "[CV 4/5] END ..................n_estimators=700;, score=0.741 total time=   9.0s\n",
      "[CV 5/5] END ..................n_estimators=700;, score=0.855 total time=   9.8s\n"
     ]
    },
    {
     "data": {
      "text/plain": [
       "GridSearchCV(estimator=RandomForestRegressor(),\n",
       "             param_grid={'n_estimators': [100, 200, 300, 400, 500, 600, 700]},\n",
       "             verbose=5)"
      ]
     },
     "execution_count": 132,
     "metadata": {},
     "output_type": "execute_result"
    }
   ],
   "source": [
    "grid.fit(X_train,y_train)"
   ]
  },
  {
   "cell_type": "code",
   "execution_count": 133,
   "id": "c5cc70b3",
   "metadata": {},
   "outputs": [
    {
     "name": "stdout",
     "output_type": "stream",
     "text": [
      "{'n_estimators': 300}\n",
      "0.8405702028057076\n"
     ]
    }
   ],
   "source": [
    "print(grid.best_params_)\n",
    "print(grid.best_score_)"
   ]
  },
  {
   "cell_type": "code",
   "execution_count": 134,
   "id": "6c76bb31",
   "metadata": {},
   "outputs": [
    {
     "data": {
      "text/plain": [
       "0.9774032753844255"
      ]
     },
     "execution_count": 134,
     "metadata": {},
     "output_type": "execute_result"
    }
   ],
   "source": [
    "\n",
    "rf = RandomForestRegressor(n_estimators=500)\n",
    "rf = rf.fit(X_train, y_train)\n",
    "rf.score(X_train, y_train)"
   ]
  },
  {
   "cell_type": "code",
   "execution_count": 135,
   "id": "bca6dc69",
   "metadata": {},
   "outputs": [
    {
     "data": {
      "text/plain": [
       "[(0.3363225456331904, 'GrLivArea'),\n",
       " (0.19295531240771271, 'GarageCars'),\n",
       " (0.09910743984637052, 'TotalBsmtSF'),\n",
       " (0.0442956049504414, 'Foundation_4'),\n",
       " (0.038075766341731036, 'YearBuilt'),\n",
       " (0.036385234155039616, 'GarageArea'),\n",
       " (0.03362009886788128, 'MasVnrArea'),\n",
       " (0.022862631492427555, 'FullBath'),\n",
       " (0.016926487505623592, 'LotArea'),\n",
       " (0.015955858924041295, 'KitchenQual_2'),\n",
       " (0.01268794645906308, 'OverallQual_7'),\n",
       " (0.011641903674972205, 'LotFrontage'),\n",
       " (0.009612388079800914, 'TotRmsAbvGrd'),\n",
       " (0.009549895356664383, 'SalePrice'),\n",
       " (0.009422513810969157, 'BsmtFinType1_1'),\n",
       " (0.007827321449710666, 'HeatingQC_4'),\n",
       " (0.007758190480921098, 'MoSold'),\n",
       " (0.006565678500983049, 'BsmtQual_2'),\n",
       " (0.004986094577196808, 'Fireplaces'),\n",
       " (0.004079825725850612, 'BsmtQual_1'),\n",
       " (0.003410271171662623, 'KitchenQual_1'),\n",
       " (0.0031414268059360567, 'BedroomAbvGr'),\n",
       " (0.0030944509128743862, 'BsmtFullBath'),\n",
       " (0.002915473592589348, 'FireplaceQu_4'),\n",
       " (0.0028281103546627267, 'OverallQual_6'),\n",
       " (0.0028017842789416648, 'YrSold'),\n",
       " (0.002685105312124045, 'OverallQual_4'),\n",
       " (0.002490657847976281, 'Exterior2nd_5'),\n",
       " (0.0022964532643798916, 'Neighborhood_5'),\n",
       " (0.002119200483780235, 'GarageFinish_1'),\n",
       " (0.002073283608005954, 'Exterior1st_1'),\n",
       " (0.0020078285659043556, 'OverallQual_8'),\n",
       " (0.001961834874786727, 'GarageType_6'),\n",
       " (0.0017925284486299767, 'Exterior1st_4'),\n",
       " (0.0016670920559615815, 'BsmtFinType1_4'),\n",
       " (0.0014722961328197555, 'MSSubClass_50'),\n",
       " (0.001463450363512023, 'GarageType_0'),\n",
       " (0.0013903849042903843, 'BsmtFinType1_5'),\n",
       " (0.001380327827059546, 'Exterior2nd_2'),\n",
       " (0.001322781220381779, 'OverallCond_2'),\n",
       " (0.0012136509624970922, 'Foundation_1'),\n",
       " (0.0012044464638569332, 'OverallQual_5'),\n",
       " (0.001171381815129289, 'FireplaceQu_1'),\n",
       " (0.001166958018120763, 'OverallCond_5'),\n",
       " (0.0009715072031159108, 'GarageFinish_0'),\n",
       " (0.000963155792086415, 'Neighborhood_16'),\n",
       " (0.0009205224161637824, 'Neighborhood_6'),\n",
       " (0.0008879458287575541, 'GarageType_4'),\n",
       " (0.0008726417048353881, 'OverallCond_6'),\n",
       " (0.0007445135311697144, 'OverallCond_4'),\n",
       " (0.0007406036514048473, 'Neighborhood_14'),\n",
       " (0.0007344844074413305, 'Exterior2nd_12'),\n",
       " (0.0007169928753952658, 'Exterior2nd_4'),\n",
       " (0.0007001384171254408, 'OverallQual_3'),\n",
       " (0.0006214872540100375, 'BsmtQual_3'),\n",
       " (0.0006098732885169027, 'MSSubClass_20'),\n",
       " (0.0005811151874658627, 'MasVnrType_2'),\n",
       " (0.0005773079491341751, 'HeatingQC_3'),\n",
       " (0.0005707327683533294, 'Neighborhood_11'),\n",
       " (0.000529549475163648, 'FireplaceQu_3'),\n",
       " (0.000521507603138619, 'Foundation_0'),\n",
       " (0.00052080153943886, 'outdoorAreaSF'),\n",
       " (0.000491294875642574, 'MasVnrType_0'),\n",
       " (0.0004836534153746931, 'GarageType_2'),\n",
       " (0.0004833293066773149, 'Exterior1st_10'),\n",
       " (0.0004795198743031751, 'HouseStyle_4'),\n",
       " (0.0004790693312146838, 'OverallQual_2'),\n",
       " (0.00047521574784476194, 'OverallCond_8'),\n",
       " (0.00045003217231942306, 'OverallCond_7'),\n",
       " (0.000438599560522991, 'MasVnrType_1'),\n",
       " (0.00043483208351560303, 'Neighborhood_8'),\n",
       " (0.0004217648088999385, 'Neighborhood_15'),\n",
       " (0.0004156035846210956, 'Neighborhood_3'),\n",
       " (0.0004027302451839394, 'Exterior1st_3'),\n",
       " (0.0003903531331489583, 'Exterior2nd_9'),\n",
       " (0.0003841330017653606, 'Neighborhood_20'),\n",
       " (0.0003738610475661044, 'Exterior2nd_13'),\n",
       " (0.0003618989674436271, 'BsmtFinType1_0'),\n",
       " (0.00036085547828704635, 'Neighborhood_4'),\n",
       " (0.00033644980776668335, 'HeatingQC_1'),\n",
       " (0.00033387784551910384, 'KitchenQual_3'),\n",
       " (0.00032672268746650564, 'HouseStyle_1'),\n",
       " (0.0003161360953390123, 'OverallQual_9'),\n",
       " (0.00030519642167701994, 'MSSubClass_90'),\n",
       " (0.000302980433122365, 'Exterior1st_7'),\n",
       " (0.0003016006711696403, 'BsmtFinType1_2'),\n",
       " (0.0003004488958040951, 'FireplaceQu_5'),\n",
       " (0.00028936993632539166, 'Exterior1st_11'),\n",
       " (0.00028366542895941644, 'FireplaceQu_2'),\n",
       " (0.0002778636555829585, 'Exterior1st_0'),\n",
       " (0.0002746476683518051, 'Neighborhood_21'),\n",
       " (0.00027297036448950746, 'Neighborhood_22'),\n",
       " (0.00026639381359301807, 'Exterior1st_6'),\n",
       " (0.000256691817023443, 'BsmtQual_0'),\n",
       " (0.0002533173951462837, 'Neighborhood_2'),\n",
       " (0.0002520819795460494, 'OverallCond_3'),\n",
       " (0.00024854997658610813, 'MSSubClass_45'),\n",
       " (0.00021609607603766243, 'Neighborhood_10'),\n",
       " (0.0002148814311873511, 'MSSubClass_85'),\n",
       " (0.00020874468141092575, 'Exterior2nd_7'),\n",
       " (0.0002026693670612623, 'BsmtFinType1_3'),\n",
       " (0.00020248805223713288, 'Exterior2nd_1'),\n",
       " (0.0001975876754231786, 'Neighborhood_24'),\n",
       " (0.00018845807212418097, 'GarageType_1'),\n",
       " (0.00018295206032428157, 'MasVnrType_3'),\n",
       " (0.00018293496198960312, 'MSSubClass_60'),\n",
       " (0.00018036943816721255, 'Neighborhood_19'),\n",
       " (0.00017718564861657815, 'Exterior2nd_15'),\n",
       " (0.00017527912672996008, 'HeatingQC_0'),\n",
       " (0.00017128707900513878, 'Neighborhood_13'),\n",
       " (0.00015850489148970488, 'Neighborhood_7'),\n",
       " (0.00015783176226879703, 'Exterior2nd_11'),\n",
       " (0.00015574126995950225, 'Exterior1st_9'),\n",
       " (0.00013517980422558012, 'KitchenQual_0'),\n",
       " (0.00013459933195547797, 'GarageType_3'),\n",
       " (0.00013448051556978706, 'Neighborhood_18'),\n",
       " (0.00013287497917419767, 'Neighborhood_23'),\n",
       " (0.00010539216586689903, 'MSSubClass_120'),\n",
       " (0.00010390801839519315, 'OverallCond_1'),\n",
       " (0.0001031438601901498, 'HouseStyle_6'),\n",
       " (9.827907888168571e-05, 'GarageType_5'),\n",
       " (9.33733141692914e-05, 'MSSubClass_180'),\n",
       " (8.211471683646963e-05, 'Exterior2nd_14'),\n",
       " (8.12512047179002e-05, 'GarageFinish_2'),\n",
       " (7.680449701587098e-05, 'FireplaceQu_0'),\n",
       " (6.712808824648537e-05, 'MSSubClass_75'),\n",
       " (5.1445759619180464e-05, 'Exterior2nd_8'),\n",
       " (4.892623208287473e-05, 'Neighborhood_17'),\n",
       " (4.7878187666038625e-05, 'OverallQual_1'),\n",
       " (4.765998602788922e-05, 'HouseStyle_3'),\n",
       " (4.696359365609766e-05, 'MSSubClass_70'),\n",
       " (4.363473241178824e-05, 'Exterior1st_13'),\n",
       " (4.2734990110116244e-05, 'HouseStyle_7'),\n",
       " (4.24761630474618e-05, 'HouseStyle_2'),\n",
       " (4.108097257195461e-05, 'MSSubClass_30'),\n",
       " (3.9297311394482594e-05, 'Foundation_2'),\n",
       " (3.249043613753454e-05, 'Neighborhood_9'),\n",
       " (3.0762322733464113e-05, 'Exterior2nd_6'),\n",
       " (2.5971886344356423e-05, 'OverallCond_9'),\n",
       " (2.389048800112051e-05, 'Exterior1st_12'),\n",
       " (1.5625858511148843e-05, 'HouseStyle_0'),\n",
       " (1.4115667311094338e-05, 'HouseStyle_5'),\n",
       " (1.3688573653773923e-05, 'MSSubClass_40'),\n",
       " (9.416125316912501e-06, 'MSSubClass_80'),\n",
       " (8.698093476736287e-06, 'Exterior2nd_10'),\n",
       " (8.332352850159116e-06, 'Foundation_3'),\n",
       " (8.007575278299603e-06, 'Neighborhood_12'),\n",
       " (5.184433004512748e-06, 'Neighborhood_1'),\n",
       " (4.5518470795579275e-06, 'Neighborhood_0'),\n",
       " (3.2654128745856403e-06, 'HeatingQC_2'),\n",
       " (9.939216675780948e-07, 'Exterior2nd_0'),\n",
       " (5.219084801027269e-07, 'MSSubClass_160'),\n",
       " (3.3405242206197745e-07, 'Exterior1st_5'),\n",
       " (0.0, 'OverallQual_10'),\n",
       " (0.0, 'MSSubClass_190'),\n",
       " (0.0, 'Exterior2nd_3'),\n",
       " (0.0, 'Exterior1st_8'),\n",
       " (0.0, 'Exterior1st_2')]"
      ]
     },
     "execution_count": 135,
     "metadata": {},
     "output_type": "execute_result"
    }
   ],
   "source": [
    "sorted(zip(rf.feature_importances_, df.columns), reverse=True)"
   ]
  },
  {
   "cell_type": "code",
   "execution_count": 136,
   "id": "6a804e8e",
   "metadata": {},
   "outputs": [],
   "source": [
    "predict = rf.predict(X_test)"
   ]
  },
  {
   "cell_type": "code",
   "execution_count": 137,
   "id": "2a87247f",
   "metadata": {},
   "outputs": [
    {
     "data": {
      "text/plain": [
       "0.8152086780507667"
      ]
     },
     "execution_count": 137,
     "metadata": {},
     "output_type": "execute_result"
    }
   ],
   "source": [
    "rf.score(X_test,y_test)"
   ]
  },
  {
   "cell_type": "code",
   "execution_count": 170,
   "id": "0b0ba207",
   "metadata": {
    "scrolled": true
   },
   "outputs": [
    {
     "data": {
      "text/html": [
       "<div>\n",
       "<style scoped>\n",
       "    .dataframe tbody tr th:only-of-type {\n",
       "        vertical-align: middle;\n",
       "    }\n",
       "\n",
       "    .dataframe tbody tr th {\n",
       "        vertical-align: top;\n",
       "    }\n",
       "\n",
       "    .dataframe thead th {\n",
       "        text-align: right;\n",
       "    }\n",
       "</style>\n",
       "<table border=\"1\" class=\"dataframe\">\n",
       "  <thead>\n",
       "    <tr style=\"text-align: right;\">\n",
       "      <th></th>\n",
       "      <th>Prediction</th>\n",
       "      <th>Actual</th>\n",
       "      <th>difference</th>\n",
       "    </tr>\n",
       "  </thead>\n",
       "  <tbody>\n",
       "    <tr>\n",
       "      <th>741</th>\n",
       "      <td>242492.0</td>\n",
       "      <td>270000</td>\n",
       "      <td>10.0</td>\n",
       "    </tr>\n",
       "    <tr>\n",
       "      <th>865</th>\n",
       "      <td>119147.0</td>\n",
       "      <td>122900</td>\n",
       "      <td>3.0</td>\n",
       "    </tr>\n",
       "    <tr>\n",
       "      <th>339</th>\n",
       "      <td>434688.0</td>\n",
       "      <td>437154</td>\n",
       "      <td>1.0</td>\n",
       "    </tr>\n",
       "    <tr>\n",
       "      <th>192</th>\n",
       "      <td>148973.0</td>\n",
       "      <td>104000</td>\n",
       "      <td>-43.0</td>\n",
       "    </tr>\n",
       "    <tr>\n",
       "      <th>203</th>\n",
       "      <td>149370.0</td>\n",
       "      <td>145000</td>\n",
       "      <td>-3.0</td>\n",
       "    </tr>\n",
       "    <tr>\n",
       "      <th>...</th>\n",
       "      <td>...</td>\n",
       "      <td>...</td>\n",
       "      <td>...</td>\n",
       "    </tr>\n",
       "    <tr>\n",
       "      <th>1027</th>\n",
       "      <td>268316.0</td>\n",
       "      <td>328000</td>\n",
       "      <td>18.0</td>\n",
       "    </tr>\n",
       "    <tr>\n",
       "      <th>966</th>\n",
       "      <td>102015.0</td>\n",
       "      <td>91000</td>\n",
       "      <td>-12.0</td>\n",
       "    </tr>\n",
       "    <tr>\n",
       "      <th>613</th>\n",
       "      <td>238116.0</td>\n",
       "      <td>209500</td>\n",
       "      <td>-14.0</td>\n",
       "    </tr>\n",
       "    <tr>\n",
       "      <th>382</th>\n",
       "      <td>135479.0</td>\n",
       "      <td>129000</td>\n",
       "      <td>-5.0</td>\n",
       "    </tr>\n",
       "    <tr>\n",
       "      <th>941</th>\n",
       "      <td>93660.0</td>\n",
       "      <td>135000</td>\n",
       "      <td>31.0</td>\n",
       "    </tr>\n",
       "  </tbody>\n",
       "</table>\n",
       "<p>353 rows × 3 columns</p>\n",
       "</div>"
      ],
      "text/plain": [
       "      Prediction  Actual  difference\n",
       "741     242492.0  270000        10.0\n",
       "865     119147.0  122900         3.0\n",
       "339     434688.0  437154         1.0\n",
       "192     148973.0  104000       -43.0\n",
       "203     149370.0  145000        -3.0\n",
       "...          ...     ...         ...\n",
       "1027    268316.0  328000        18.0\n",
       "966     102015.0   91000       -12.0\n",
       "613     238116.0  209500       -14.0\n",
       "382     135479.0  129000        -5.0\n",
       "941      93660.0  135000        31.0\n",
       "\n",
       "[353 rows x 3 columns]"
      ]
     },
     "execution_count": 170,
     "metadata": {},
     "output_type": "execute_result"
    }
   ],
   "source": [
    "predictions =rf.predict(X_test).round()\n",
    "pd.DataFrame({\"Prediction\": predictions, \"Actual\": y_test, \"difference\": round((y_test - predictions)/y_test*100)})"
   ]
  },
  {
   "cell_type": "markdown",
   "id": "9616e5c6",
   "metadata": {},
   "source": [
    "## After comparing the results from KNN and RF Regressor I decided to continue with the Random Forest model "
   ]
  },
  {
   "cell_type": "code",
   "execution_count": null,
   "id": "c969bfbf",
   "metadata": {},
   "outputs": [],
   "source": [
    " "
   ]
  }
 ],
 "metadata": {
  "kernelspec": {
   "display_name": "Python [conda env:PythonAdv] *",
   "language": "python",
   "name": "conda-env-PythonAdv-py"
  },
  "language_info": {
   "codemirror_mode": {
    "name": "ipython",
    "version": 3
   },
   "file_extension": ".py",
   "mimetype": "text/x-python",
   "name": "python",
   "nbconvert_exporter": "python",
   "pygments_lexer": "ipython3",
   "version": "3.6.13"
  }
 },
 "nbformat": 4,
 "nbformat_minor": 5
}
