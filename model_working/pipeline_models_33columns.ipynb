{
 "cells": [
  {
   "cell_type": "code",
   "execution_count": 93,
   "id": "8141c422",
   "metadata": {},
   "outputs": [],
   "source": [
    "import pandas as pd \n",
    "\n",
    "import numpy as np \n",
    "from sklearn.preprocessing import LabelEncoder\n",
    "from sklearn.preprocessing import OneHotEncoder\n",
    "from sklearn.preprocessing import minmax_scale\n",
    "from sklearn.model_selection import train_test_split"
   ]
  },
  {
   "cell_type": "code",
   "execution_count": 94,
   "id": "881f7b03",
   "metadata": {},
   "outputs": [],
   "source": [
    "f_train=pd.read_csv(\"../Resources/thirtythree.csv\")"
   ]
  },
  {
   "cell_type": "markdown",
   "id": "d55f2b36",
   "metadata": {},
   "source": [
    "# Pipeline creation \n",
    "###### label encoder then get_dummies"
   ]
  },
  {
   "cell_type": "code",
   "execution_count": 95,
   "id": "80723bc7",
   "metadata": {},
   "outputs": [],
   "source": [
    "def label (df):\n",
    "    le=LabelEncoder()\n",
    "    encoder=OneHotEncoder()\n",
    "    label_encode = df.select_dtypes(exclude=['number']).columns.tolist()\n",
    "    \n",
    "\n",
    "    for x in label_encode:\n",
    "        col = df[x]\n",
    "        label = le.fit_transform(col)\n",
    "        df[x]=label\n",
    "      \n",
    "    return df  "
   ]
  },
  {
   "cell_type": "code",
   "execution_count": 96,
   "id": "543c0577",
   "metadata": {},
   "outputs": [],
   "source": [
    "def onehot(df):\n",
    "    label_encode = df.select_dtypes(exclude=['number']).columns.tolist()\n",
    "    numeric_classes = ['MSSubClass', 'OverallQual','OverallCond']\n",
    "    onehot = numeric_classes+label_encode\n",
    "    for x in onehot: \n",
    "        \n",
    "        df[x]=df[x].astype('object')\n",
    "        one_hot = pd.get_dummies(df[x])\n",
    "        df.drop(columns=[x], inplace=True)\n",
    "        one_hot = one_hot.add_prefix(x + '_')\n",
    "        df=df.join(one_hot)\n",
    "    return df "
   ]
  },
  {
   "cell_type": "code",
   "execution_count": 97,
   "id": "341a08d2",
   "metadata": {},
   "outputs": [],
   "source": [
    "def split_scale(df): \n",
    "    scale_list = ['LotFrontage', 'LotArea', 'YearBuilt', 'MasVnrArea', 'TotalBsmtSF',\n",
    "       'GrLivArea', 'BsmtFullBath', 'FullBath', 'BedroomAbvGr', 'TotRmsAbvGrd',\n",
    "       'Fireplaces', 'GarageCars', 'GarageArea','outdoorAreaSF']\n",
    "    X = df.drop('SalePrice', axis = 1)\n",
    "    y = df['SalePrice']\n",
    "    X_train, X_test, y_train, y_test = train_test_split(X, y, random_state=42)\n",
    "    X_train[scale_list] = minmax_scale(X_train[scale_list])\n",
    "    X_test[scale_list] = minmax_scale(X_test[scale_list])\n",
    "    \n",
    "    return df"
   ]
  },
  {
   "cell_type": "code",
   "execution_count": 98,
   "id": "340c5ecb",
   "metadata": {},
   "outputs": [],
   "source": [
    "def pipeline(df):\n",
    "    df.drop(columns=['MoSold','YrSold'])\n",
    "    df = (df.pipe(label)\n",
    "         .pipe(onehot))\n",
    "    return df "
   ]
  },
  {
   "cell_type": "code",
   "execution_count": 99,
   "id": "149155d0",
   "metadata": {},
   "outputs": [],
   "source": [
    "def pipeline(df):\n",
    "    df.drop(columns=['MoSold','YrSold'])\n",
    "    df = (df.pipe(label)\n",
    "         .pipe(onehot))\n",
    "         #.pipe(split_scale))\n",
    "    return df"
   ]
  },
  {
   "cell_type": "code",
   "execution_count": 100,
   "id": "2c32428a",
   "metadata": {
    "scrolled": false
   },
   "outputs": [],
   "source": [
    "df = pipeline(f_train)"
   ]
  },
  {
   "cell_type": "markdown",
   "id": "623b8239",
   "metadata": {},
   "source": [
    "# KNN model test"
   ]
  },
  {
   "cell_type": "code",
   "execution_count": 101,
   "id": "cb72b00b",
   "metadata": {},
   "outputs": [
    {
     "name": "stderr",
     "output_type": "stream",
     "text": [
      "C:\\Users\\Public\\Downloads\\Anaconda\\envs\\PythonAdv\\lib\\site-packages\\ipykernel_launcher.py:7: SettingWithCopyWarning: \n",
      "A value is trying to be set on a copy of a slice from a DataFrame.\n",
      "Try using .loc[row_indexer,col_indexer] = value instead\n",
      "\n",
      "See the caveats in the documentation: https://pandas.pydata.org/pandas-docs/stable/user_guide/indexing.html#returning-a-view-versus-a-copy\n",
      "  import sys\n",
      "C:\\Users\\Public\\Downloads\\Anaconda\\envs\\PythonAdv\\lib\\site-packages\\pandas\\core\\indexing.py:1734: SettingWithCopyWarning: \n",
      "A value is trying to be set on a copy of a slice from a DataFrame.\n",
      "Try using .loc[row_indexer,col_indexer] = value instead\n",
      "\n",
      "See the caveats in the documentation: https://pandas.pydata.org/pandas-docs/stable/user_guide/indexing.html#returning-a-view-versus-a-copy\n",
      "  isetter(loc, value[:, i].tolist())\n",
      "C:\\Users\\Public\\Downloads\\Anaconda\\envs\\PythonAdv\\lib\\site-packages\\ipykernel_launcher.py:8: SettingWithCopyWarning: \n",
      "A value is trying to be set on a copy of a slice from a DataFrame.\n",
      "Try using .loc[row_indexer,col_indexer] = value instead\n",
      "\n",
      "See the caveats in the documentation: https://pandas.pydata.org/pandas-docs/stable/user_guide/indexing.html#returning-a-view-versus-a-copy\n",
      "  \n",
      "C:\\Users\\Public\\Downloads\\Anaconda\\envs\\PythonAdv\\lib\\site-packages\\pandas\\core\\indexing.py:1734: SettingWithCopyWarning: \n",
      "A value is trying to be set on a copy of a slice from a DataFrame.\n",
      "Try using .loc[row_indexer,col_indexer] = value instead\n",
      "\n",
      "See the caveats in the documentation: https://pandas.pydata.org/pandas-docs/stable/user_guide/indexing.html#returning-a-view-versus-a-copy\n",
      "  isetter(loc, value[:, i].tolist())\n"
     ]
    }
   ],
   "source": [
    "scale_list = ['LotFrontage', 'LotArea', 'YearBuilt', 'MasVnrArea', 'TotalBsmtSF',\n",
    "       'GrLivArea', 'BsmtFullBath', 'FullBath', 'BedroomAbvGr', 'TotRmsAbvGrd',\n",
    "       'Fireplaces', 'GarageCars', 'GarageArea','outdoorAreaSF']\n",
    "X = df.drop('SalePrice', axis = 1)\n",
    "y = df['SalePrice']\n",
    "X_train, X_test, y_train, y_test = train_test_split(X, y, random_state=42)\n",
    "X_train[scale_list] = minmax_scale(X_train[scale_list])\n",
    "X_test[scale_list] = minmax_scale(X_test[scale_list])"
   ]
  },
  {
   "cell_type": "code",
   "execution_count": 102,
   "id": "326f0def",
   "metadata": {},
   "outputs": [
    {
     "name": "stdout",
     "output_type": "stream",
     "text": [
      "k: 1, Train/Test Score: 1.000/0.497\n",
      "k: 3, Train/Test Score: 0.790/0.609\n",
      "k: 5, Train/Test Score: 0.720/0.616\n",
      "k: 7, Train/Test Score: 0.696/0.621\n",
      "k: 9, Train/Test Score: 0.657/0.610\n",
      "k: 11, Train/Test Score: 0.642/0.604\n",
      "k: 13, Train/Test Score: 0.630/0.597\n",
      "k: 15, Train/Test Score: 0.622/0.599\n",
      "k: 17, Train/Test Score: 0.608/0.602\n",
      "k: 19, Train/Test Score: 0.601/0.594\n",
      "k: 21, Train/Test Score: 0.595/0.593\n",
      "k: 23, Train/Test Score: 0.586/0.579\n",
      "k: 25, Train/Test Score: 0.578/0.571\n",
      "k: 27, Train/Test Score: 0.568/0.562\n",
      "k: 29, Train/Test Score: 0.561/0.554\n",
      "k: 31, Train/Test Score: 0.554/0.544\n",
      "k: 33, Train/Test Score: 0.548/0.545\n",
      "k: 35, Train/Test Score: 0.539/0.541\n",
      "k: 37, Train/Test Score: 0.533/0.536\n",
      "k: 39, Train/Test Score: 0.527/0.533\n",
      "k: 41, Train/Test Score: 0.521/0.529\n",
      "k: 43, Train/Test Score: 0.516/0.523\n",
      "k: 45, Train/Test Score: 0.510/0.519\n",
      "k: 47, Train/Test Score: 0.503/0.516\n",
      "k: 49, Train/Test Score: 0.501/0.508\n"
     ]
    }
   ],
   "source": [
    "from sklearn.neighbors import KNeighborsRegressor\n",
    "import matplotlib.pyplot as plt \n",
    "train_scores = []\n",
    "test_scores = []\n",
    "for k in range(1, 50, 2):\n",
    "    knn = KNeighborsRegressor(n_neighbors=k)\n",
    "    knn.fit(X_train, y_train)\n",
    "    train_score = knn.score(X_train, y_train)\n",
    "    test_score = knn.score(X_test, y_test)\n",
    "    train_scores.append(train_score)\n",
    "    test_scores.append(test_score)\n",
    "    print(f\"k: {k}, Train/Test Score: {train_score:.3f}/{test_score:.3f}\")"
   ]
  },
  {
   "cell_type": "code",
   "execution_count": 103,
   "id": "6b4c5811",
   "metadata": {},
   "outputs": [
    {
     "data": {
      "image/png": "[encoded data removed]",
      "text/plain": [
       "<Figure size 432x288 with 1 Axes>"
      ]
     },
     "metadata": {
      "needs_background": "light"
     },
     "output_type": "display_data"
    }
   ],
   "source": [
    "import matplotlib.pyplot as plt \n",
    "plt.plot(range(1, 50, 2), train_scores, marker='o')\n",
    "plt.plot(range(1, 50, 2), test_scores, marker=\"x\")\n",
    "plt.xlabel(\"k neighbors\")\n",
    "plt.ylabel(\"Testing accuracy Score\")\n",
    "plt.show()"
   ]
  },
  {
   "cell_type": "code",
   "execution_count": 109,
   "id": "ea7c2b3a",
   "metadata": {},
   "outputs": [
    {
     "data": {
      "text/plain": [
       "0.5932967662271422"
      ]
     },
     "execution_count": 109,
     "metadata": {},
     "output_type": "execute_result"
    }
   ],
   "source": [
    "knn = KNeighborsRegressor(n_neighbors = 21)\n",
    "knn.fit(X_train, y_train)\n",
    "knn.score(X_test,y_test)"
   ]
  },
  {
   "cell_type": "code",
   "execution_count": 110,
   "id": "e5b9aaea",
   "metadata": {},
   "outputs": [
    {
     "data": {
      "text/html": [
       "<div>\n",
       "<style scoped>\n",
       "    .dataframe tbody tr th:only-of-type {\n",
       "        vertical-align: middle;\n",
       "    }\n",
       "\n",
       "    .dataframe tbody tr th {\n",
       "        vertical-align: top;\n",
       "    }\n",
       "\n",
       "    .dataframe thead th {\n",
       "        text-align: right;\n",
       "    }\n",
       "</style>\n",
       "<table border=\"1\" class=\"dataframe\">\n",
       "  <thead>\n",
       "    <tr style=\"text-align: right;\">\n",
       "      <th></th>\n",
       "      <th>Prediction</th>\n",
       "      <th>Actual</th>\n",
       "    </tr>\n",
       "  </thead>\n",
       "  <tbody>\n",
       "    <tr>\n",
       "      <th>741</th>\n",
       "      <td>242563.0</td>\n",
       "      <td>270000</td>\n",
       "    </tr>\n",
       "    <tr>\n",
       "      <th>865</th>\n",
       "      <td>119274.0</td>\n",
       "      <td>122900</td>\n",
       "    </tr>\n",
       "    <tr>\n",
       "      <th>339</th>\n",
       "      <td>312803.0</td>\n",
       "      <td>437154</td>\n",
       "    </tr>\n",
       "    <tr>\n",
       "      <th>192</th>\n",
       "      <td>124533.0</td>\n",
       "      <td>104000</td>\n",
       "    </tr>\n",
       "    <tr>\n",
       "      <th>203</th>\n",
       "      <td>146160.0</td>\n",
       "      <td>145000</td>\n",
       "    </tr>\n",
       "    <tr>\n",
       "      <th>...</th>\n",
       "      <td>...</td>\n",
       "      <td>...</td>\n",
       "    </tr>\n",
       "    <tr>\n",
       "      <th>1027</th>\n",
       "      <td>220258.0</td>\n",
       "      <td>328000</td>\n",
       "    </tr>\n",
       "    <tr>\n",
       "      <th>966</th>\n",
       "      <td>133173.0</td>\n",
       "      <td>91000</td>\n",
       "    </tr>\n",
       "    <tr>\n",
       "      <th>613</th>\n",
       "      <td>277137.0</td>\n",
       "      <td>209500</td>\n",
       "    </tr>\n",
       "    <tr>\n",
       "      <th>382</th>\n",
       "      <td>161140.0</td>\n",
       "      <td>129000</td>\n",
       "    </tr>\n",
       "    <tr>\n",
       "      <th>941</th>\n",
       "      <td>113253.0</td>\n",
       "      <td>135000</td>\n",
       "    </tr>\n",
       "  </tbody>\n",
       "</table>\n",
       "<p>353 rows × 2 columns</p>\n",
       "</div>"
      ],
      "text/plain": [
       "      Prediction  Actual\n",
       "741     242563.0  270000\n",
       "865     119274.0  122900\n",
       "339     312803.0  437154\n",
       "192     124533.0  104000\n",
       "203     146160.0  145000\n",
       "...          ...     ...\n",
       "1027    220258.0  328000\n",
       "966     133173.0   91000\n",
       "613     277137.0  209500\n",
       "382     161140.0  129000\n",
       "941     113253.0  135000\n",
       "\n",
       "[353 rows x 2 columns]"
      ]
     },
     "execution_count": 110,
     "metadata": {},
     "output_type": "execute_result"
    }
   ],
   "source": [
    "predictions =knn.predict(X_test).round()\n",
    "pd.DataFrame({\"Prediction\": predictions, \"Actual\": y_test})"
   ]
  },
  {
   "cell_type": "markdown",
   "id": "3f898861",
   "metadata": {},
   "source": [
    "### Random Forest model test "
   ]
  },
  {
   "cell_type": "code",
   "execution_count": 75,
   "id": "ba28486f",
   "metadata": {},
   "outputs": [],
   "source": [
    "f_train=pd.read_csv(\"../Resources/thirtythree.csv\")"
   ]
  },
  {
   "cell_type": "code",
   "execution_count": 76,
   "id": "9974ba1a",
   "metadata": {},
   "outputs": [],
   "source": [
    "df = pipeline(f_train)"
   ]
  },
  {
   "cell_type": "code",
   "execution_count": 77,
   "id": "706e5c29",
   "metadata": {},
   "outputs": [],
   "source": [
    "X = df.drop('SalePrice', axis = 1)\n",
    "y = df['SalePrice']"
   ]
  },
  {
   "cell_type": "code",
   "execution_count": 78,
   "id": "2d9ba994",
   "metadata": {},
   "outputs": [],
   "source": [
    "from sklearn.ensemble import RandomForestRegressor"
   ]
  },
  {
   "cell_type": "code",
   "execution_count": 80,
   "id": "97e0d0c6",
   "metadata": {},
   "outputs": [],
   "source": [
    "rf = RandomForestRegressor()\n"
   ]
  },
  {
   "cell_type": "code",
   "execution_count": 81,
   "id": "a4fab5d5",
   "metadata": {},
   "outputs": [],
   "source": [
    "X_train, X_test, y_train, y_test = train_test_split(X, y, random_state=42)"
   ]
  },
  {
   "cell_type": "code",
   "execution_count": 82,
   "id": "a0dd207d",
   "metadata": {},
   "outputs": [],
   "source": [
    "from sklearn.model_selection import GridSearchCV \n",
    "param_grid = {'n_estimators':[100,200,300,400,500,600,700]}\n",
    "grid = GridSearchCV(rf,param_grid, verbose=5)"
   ]
  },
  {
   "cell_type": "code",
   "execution_count": 83,
   "id": "1fa4fe02",
   "metadata": {
    "scrolled": true
   },
   "outputs": [
    {
     "name": "stdout",
     "output_type": "stream",
     "text": [
      "Fitting 5 folds for each of 7 candidates, totalling 35 fits\n",
      "[CV 1/5] END ..................n_estimators=100;, score=0.881 total time=   0.9s\n",
      "[CV 2/5] END ..................n_estimators=100;, score=0.864 total time=   0.9s\n",
      "[CV 3/5] END ..................n_estimators=100;, score=0.847 total time=   0.9s\n",
      "[CV 4/5] END ..................n_estimators=100;, score=0.738 total time=   0.8s\n",
      "[CV 5/5] END ..................n_estimators=100;, score=0.849 total time=   0.8s\n",
      "[CV 1/5] END ..................n_estimators=200;, score=0.881 total time=   1.8s\n",
      "[CV 2/5] END ..................n_estimators=200;, score=0.866 total time=   1.7s\n",
      "[CV 3/5] END ..................n_estimators=200;, score=0.850 total time=   1.7s\n",
      "[CV 4/5] END ..................n_estimators=200;, score=0.728 total time=   1.6s\n",
      "[CV 5/5] END ..................n_estimators=200;, score=0.856 total time=   1.6s\n",
      "[CV 1/5] END ..................n_estimators=300;, score=0.881 total time=   2.8s\n",
      "[CV 2/5] END ..................n_estimators=300;, score=0.865 total time=   2.8s\n",
      "[CV 3/5] END ..................n_estimators=300;, score=0.853 total time=   2.6s\n",
      "[CV 4/5] END ..................n_estimators=300;, score=0.729 total time=   2.8s\n",
      "[CV 5/5] END ..................n_estimators=300;, score=0.852 total time=   2.8s\n",
      "[CV 1/5] END ..................n_estimators=400;, score=0.882 total time=   3.7s\n",
      "[CV 2/5] END ..................n_estimators=400;, score=0.867 total time=   3.6s\n",
      "[CV 3/5] END ..................n_estimators=400;, score=0.858 total time=   3.5s\n",
      "[CV 4/5] END ..................n_estimators=400;, score=0.720 total time=   3.6s\n",
      "[CV 5/5] END ..................n_estimators=400;, score=0.856 total time=   3.6s\n",
      "[CV 1/5] END ..................n_estimators=500;, score=0.880 total time=   4.9s\n",
      "[CV 2/5] END ..................n_estimators=500;, score=0.866 total time=   4.4s\n",
      "[CV 3/5] END ..................n_estimators=500;, score=0.858 total time=   4.5s\n",
      "[CV 4/5] END ..................n_estimators=500;, score=0.727 total time=   4.3s\n",
      "[CV 5/5] END ..................n_estimators=500;, score=0.855 total time=   4.5s\n",
      "[CV 1/5] END ..................n_estimators=600;, score=0.884 total time=   5.5s\n",
      "[CV 2/5] END ..................n_estimators=600;, score=0.868 total time=   5.7s\n",
      "[CV 3/5] END ..................n_estimators=600;, score=0.850 total time=   5.4s\n",
      "[CV 4/5] END ..................n_estimators=600;, score=0.726 total time=   5.8s\n",
      "[CV 5/5] END ..................n_estimators=600;, score=0.855 total time=   5.3s\n",
      "[CV 1/5] END ..................n_estimators=700;, score=0.881 total time=   6.3s\n",
      "[CV 2/5] END ..................n_estimators=700;, score=0.864 total time=   6.3s\n",
      "[CV 3/5] END ..................n_estimators=700;, score=0.851 total time=   6.3s\n",
      "[CV 4/5] END ..................n_estimators=700;, score=0.733 total time=   6.3s\n",
      "[CV 5/5] END ..................n_estimators=700;, score=0.852 total time=   6.3s\n"
     ]
    },
    {
     "data": {
      "text/plain": [
       "GridSearchCV(estimator=RandomForestRegressor(),\n",
       "             param_grid={'n_estimators': [100, 200, 300, 400, 500, 600, 700]},\n",
       "             verbose=5)"
      ]
     },
     "execution_count": 83,
     "metadata": {},
     "output_type": "execute_result"
    }
   ],
   "source": [
    "grid.fit(X_train,y_train)"
   ]
  },
  {
   "cell_type": "code",
   "execution_count": 84,
   "id": "78aac788",
   "metadata": {},
   "outputs": [
    {
     "name": "stdout",
     "output_type": "stream",
     "text": [
      "{'n_estimators': 500}\n",
      "0.8372446281544972\n"
     ]
    }
   ],
   "source": [
    "print(grid.best_params_)\n",
    "print(grid.best_score_)"
   ]
  },
  {
   "cell_type": "code",
   "execution_count": 85,
   "id": "5cc5b818",
   "metadata": {},
   "outputs": [
    {
     "data": {
      "text/plain": [
       "0.9782663948131296"
      ]
     },
     "execution_count": 85,
     "metadata": {},
     "output_type": "execute_result"
    }
   ],
   "source": [
    "\n",
    "rf = RandomForestRegressor(n_estimators=500)\n",
    "rf = rf.fit(X_train, y_train)\n",
    "rf.score(X_train, y_train)"
   ]
  },
  {
   "cell_type": "code",
   "execution_count": 86,
   "id": "1975c924",
   "metadata": {},
   "outputs": [
    {
     "data": {
      "text/plain": [
       "[(0.3337558117889572, 'GrLivArea'),\n",
       " (0.20212887769233914, 'GarageCars'),\n",
       " (0.099234302981639, 'TotalBsmtSF'),\n",
       " (0.05363109930690729, 'BsmtQual'),\n",
       " (0.03932948588004426, 'MasVnrArea'),\n",
       " (0.03857552503847228, 'GarageArea'),\n",
       " (0.03129075613941511, 'YearBuilt'),\n",
       " (0.026266223679108233, 'KitchenQual'),\n",
       " (0.020363587026784966, 'FullBath'),\n",
       " (0.01612617666296092, 'LotArea'),\n",
       " (0.012876102585414877, 'OverallQual_7'),\n",
       " (0.011916653362571842, 'LotFrontage'),\n",
       " (0.010272665901548022, 'SalePrice'),\n",
       " (0.010195196435613334, 'GarageFinish'),\n",
       " (0.009690868313203762, 'TotRmsAbvGrd'),\n",
       " (0.009508117321460745, 'Neighborhood'),\n",
       " (0.008192523357240567, 'MoSold'),\n",
       " (0.00544426487912872, 'Fireplaces'),\n",
       " (0.0052011856049625355, 'GarageType'),\n",
       " (0.004944937416360941, 'Exterior2nd'),\n",
       " (0.004786444439897871, 'BsmtFinType1'),\n",
       " (0.004038701991527774, 'Exterior1st'),\n",
       " (0.004036745021778073, 'FireplaceQu'),\n",
       " (0.00377425313525808, 'BsmtFullBath'),\n",
       " (0.0033241512516284343, 'BedroomAbvGr'),\n",
       " (0.0030235199507719656, 'OverallQual_6'),\n",
       " (0.002848639432754678, 'OverallQual_4'),\n",
       " (0.0028188639735518307, 'YrSold'),\n",
       " (0.002389832937549636, 'Foundation'),\n",
       " (0.0023260020914841594, 'HeatingQC'),\n",
       " (0.002079746379721154, 'OverallQual_8'),\n",
       " (0.0017438494515696276, 'MSSubClass_50'),\n",
       " (0.001366209748693446, 'HouseStyle'),\n",
       " (0.0013495678269949748, 'OverallCond_2'),\n",
       " (0.001331014179167601, 'OverallQual_5'),\n",
       " (0.0012992850455004381, 'MasVnrType'),\n",
       " (0.0011012559065968024, 'OverallCond_5'),\n",
       " (0.0009154688172239257, 'OverallCond_6'),\n",
       " (0.0009049111755258841, 'OverallCond_4'),\n",
       " (0.0006664774437594255, 'OverallQual_3'),\n",
       " (0.0005714424871009791, 'OverallQual_2'),\n",
       " (0.0005614475880748413, 'outdoorAreaSF'),\n",
       " (0.0005547986713530012, 'OverallCond_7'),\n",
       " (0.000498778838925601, 'OverallCond_8'),\n",
       " (0.00047424772461441644, 'MSSubClass_20'),\n",
       " (0.0003636397574958584, 'OverallCond_3'),\n",
       " (0.00036021967945105065, 'OverallQual_9'),\n",
       " (0.000265181050018876, 'MSSubClass_90'),\n",
       " (0.00025015388048902964, 'MSSubClass_45'),\n",
       " (0.00019094692377207782, 'MSSubClass_85'),\n",
       " (0.0001897876584245816, 'MSSubClass_60'),\n",
       " (0.00014887764537949784, 'MSSubClass_70'),\n",
       " (0.0001004618799234602, 'OverallCond_1'),\n",
       " (9.986741157138906e-05, 'MSSubClass_180'),\n",
       " (9.980322809351258e-05, 'MSSubClass_75'),\n",
       " (8.239659484556486e-05, 'MSSubClass_120'),\n",
       " (4.797698675493625e-05, 'OverallQual_1'),\n",
       " (4.059300179914173e-05, 'MSSubClass_30'),\n",
       " (1.7506116035822147e-05, 'MSSubClass_40'),\n",
       " (8.963475612452526e-06, 'MSSubClass_80'),\n",
       " (3.607825174276673e-06, 'MSSubClass_160'),\n",
       " (0.0, 'OverallQual_10'),\n",
       " (0.0, 'MSSubClass_190')]"
      ]
     },
     "execution_count": 86,
     "metadata": {},
     "output_type": "execute_result"
    }
   ],
   "source": [
    "sorted(zip(rf.feature_importances_, df.columns), reverse=True)"
   ]
  },
  {
   "cell_type": "code",
   "execution_count": 87,
   "id": "b9b022ea",
   "metadata": {},
   "outputs": [],
   "source": [
    "predict = rf.predict(X_test)"
   ]
  },
  {
   "cell_type": "code",
   "execution_count": 88,
   "id": "91a67552",
   "metadata": {},
   "outputs": [
    {
     "data": {
      "text/plain": [
       "0.8150671958666675"
      ]
     },
     "execution_count": 88,
     "metadata": {},
     "output_type": "execute_result"
    }
   ],
   "source": [
    "rf.score(X_test,y_test)"
   ]
  },
  {
   "cell_type": "code",
   "execution_count": 91,
   "id": "46f27266",
   "metadata": {},
   "outputs": [
    {
     "data": {
      "text/html": [
       "<div>\n",
       "<style scoped>\n",
       "    .dataframe tbody tr th:only-of-type {\n",
       "        vertical-align: middle;\n",
       "    }\n",
       "\n",
       "    .dataframe tbody tr th {\n",
       "        vertical-align: top;\n",
       "    }\n",
       "\n",
       "    .dataframe thead th {\n",
       "        text-align: right;\n",
       "    }\n",
       "</style>\n",
       "<table border=\"1\" class=\"dataframe\">\n",
       "  <thead>\n",
       "    <tr style=\"text-align: right;\">\n",
       "      <th></th>\n",
       "      <th>Prediction</th>\n",
       "      <th>Actual</th>\n",
       "    </tr>\n",
       "  </thead>\n",
       "  <tbody>\n",
       "    <tr>\n",
       "      <th>741</th>\n",
       "      <td>253671.0</td>\n",
       "      <td>270000</td>\n",
       "    </tr>\n",
       "    <tr>\n",
       "      <th>865</th>\n",
       "      <td>117909.0</td>\n",
       "      <td>122900</td>\n",
       "    </tr>\n",
       "    <tr>\n",
       "      <th>339</th>\n",
       "      <td>435291.0</td>\n",
       "      <td>437154</td>\n",
       "    </tr>\n",
       "    <tr>\n",
       "      <th>192</th>\n",
       "      <td>151841.0</td>\n",
       "      <td>104000</td>\n",
       "    </tr>\n",
       "    <tr>\n",
       "      <th>203</th>\n",
       "      <td>147285.0</td>\n",
       "      <td>145000</td>\n",
       "    </tr>\n",
       "    <tr>\n",
       "      <th>...</th>\n",
       "      <td>...</td>\n",
       "      <td>...</td>\n",
       "    </tr>\n",
       "    <tr>\n",
       "      <th>1027</th>\n",
       "      <td>252887.0</td>\n",
       "      <td>328000</td>\n",
       "    </tr>\n",
       "    <tr>\n",
       "      <th>966</th>\n",
       "      <td>99382.0</td>\n",
       "      <td>91000</td>\n",
       "    </tr>\n",
       "    <tr>\n",
       "      <th>613</th>\n",
       "      <td>240107.0</td>\n",
       "      <td>209500</td>\n",
       "    </tr>\n",
       "    <tr>\n",
       "      <th>382</th>\n",
       "      <td>136651.0</td>\n",
       "      <td>129000</td>\n",
       "    </tr>\n",
       "    <tr>\n",
       "      <th>941</th>\n",
       "      <td>91201.0</td>\n",
       "      <td>135000</td>\n",
       "    </tr>\n",
       "  </tbody>\n",
       "</table>\n",
       "<p>353 rows × 2 columns</p>\n",
       "</div>"
      ],
      "text/plain": [
       "      Prediction  Actual\n",
       "741     253671.0  270000\n",
       "865     117909.0  122900\n",
       "339     435291.0  437154\n",
       "192     151841.0  104000\n",
       "203     147285.0  145000\n",
       "...          ...     ...\n",
       "1027    252887.0  328000\n",
       "966      99382.0   91000\n",
       "613     240107.0  209500\n",
       "382     136651.0  129000\n",
       "941      91201.0  135000\n",
       "\n",
       "[353 rows x 2 columns]"
      ]
     },
     "execution_count": 91,
     "metadata": {},
     "output_type": "execute_result"
    }
   ],
   "source": [
    "predictions =rf.predict(X_test).round()\n",
    "pd.DataFrame({\"Prediction\": predictions, \"Actual\": y_test})"
   ]
  },
  {
   "cell_type": "code",
   "execution_count": null,
   "id": "76495f2f",
   "metadata": {},
   "outputs": [],
   "source": []
  }
 ],
 "metadata": {
  "kernelspec": {
   "display_name": "Python [conda env:PythonAdv] *",
   "language": "python",
   "name": "conda-env-PythonAdv-py"
  },
  "language_info": {
   "codemirror_mode": {
    "name": "ipython",
    "version": 3
   },
   "file_extension": ".py",
   "mimetype": "text/x-python",
   "name": "python",
   "nbconvert_exporter": "python",
   "pygments_lexer": "ipython3",
   "version": "3.6.13"
  }
 },
 "nbformat": 4,
 "nbformat_minor": 5
}
