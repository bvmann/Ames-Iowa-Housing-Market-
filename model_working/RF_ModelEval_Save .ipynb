{
 "cells": [
  {
   "cell_type": "code",
   "execution_count": 1,
   "id": "869f74d1",
   "metadata": {},
   "outputs": [],
   "source": [
    "import pandas as pd \n",
    "\n",
    "import numpy as np \n",
    "from sklearn.preprocessing import LabelEncoder\n",
    "from sklearn.model_selection import train_test_split"
   ]
  },
  {
   "cell_type": "code",
   "execution_count": 2,
   "id": "acc16fe4",
   "metadata": {},
   "outputs": [],
   "source": [
    "f_train=pd.read_csv(\"../Resources/thirtythree.csv\")"
   ]
  },
  {
   "cell_type": "markdown",
   "id": "906f5d3a",
   "metadata": {},
   "source": [
    "## Created functions and pipeline "
   ]
  },
  {
   "cell_type": "code",
   "execution_count": 3,
   "id": "a8bd4bc7",
   "metadata": {},
   "outputs": [],
   "source": [
    "#label drops month and year sold,and label encodes each column with string values \n",
    "def label (df):\n",
    "    df.drop(columns=['MoSold','YrSold'], inplace=True)\n",
    "   \n",
    "    le=LabelEncoder()\n",
    "    \n",
    "    label_encode = df.select_dtypes(exclude=['number']).columns.tolist()\n",
    "    \n",
    "\n",
    "    for x in label_encode:\n",
    "        col = df[x]\n",
    "        label = le.fit_transform(col)\n",
    "        df[x]=label\n",
    "      \n",
    "    return df  "
   ]
  },
  {
   "cell_type": "code",
   "execution_count": 4,
   "id": "45a98622",
   "metadata": {},
   "outputs": [],
   "source": [
    "#one hot is designed to pass through each column with ordinal data and apply pd.get_dummies \n",
    "\n",
    "def onehot(df):\n",
    "    onehot = ['MSSubClass',\n",
    " 'OverallQual',\n",
    " 'OverallCond',\n",
    " 'Neighborhood',\n",
    " 'HouseStyle',\n",
    " 'Exterior1st',\n",
    " 'Exterior2nd',\n",
    " 'MasVnrType',\n",
    " 'Foundation',\n",
    " 'BsmtQual',\n",
    " 'BsmtFinType1',\n",
    " 'HeatingQC',\n",
    " 'KitchenQual',\n",
    " 'FireplaceQu',\n",
    " 'GarageType',\n",
    " 'GarageFinish']\n",
    "    for x in onehot: \n",
    "        \n",
    "        df[x]=df[x].astype('object')\n",
    "        one_hot = pd.get_dummies(df[x])\n",
    "        df.drop(columns=[x], inplace=True)\n",
    "        one_hot = one_hot.add_prefix(x + '_')\n",
    "        df=df.join(one_hot)\n",
    "    return df "
   ]
  },
  {
   "cell_type": "code",
   "execution_count": 5,
   "id": "ffae0d63",
   "metadata": {},
   "outputs": [],
   "source": [
    "#initializing pipeline\n",
    "def pipeline(df):\n",
    "    df = (df.pipe(label)\n",
    "         .pipe(onehot))\n",
    "    return df "
   ]
  },
  {
   "cell_type": "code",
   "execution_count": 6,
   "id": "81774093",
   "metadata": {},
   "outputs": [],
   "source": [
    "#after testing with different variotions I found that the Random Forest Regressor worked best without the one hot encoding. \n",
    "#Continued building model only applying the label encoder function. \n",
    "df = label(f_train)"
   ]
  },
  {
   "cell_type": "code",
   "execution_count": 7,
   "id": "72d71deb",
   "metadata": {
    "scrolled": true
   },
   "outputs": [
    {
     "data": {
      "text/html": [
       "<div>\n",
       "<style scoped>\n",
       "    .dataframe tbody tr th:only-of-type {\n",
       "        vertical-align: middle;\n",
       "    }\n",
       "\n",
       "    .dataframe tbody tr th {\n",
       "        vertical-align: top;\n",
       "    }\n",
       "\n",
       "    .dataframe thead th {\n",
       "        text-align: right;\n",
       "    }\n",
       "</style>\n",
       "<table border=\"1\" class=\"dataframe\">\n",
       "  <thead>\n",
       "    <tr style=\"text-align: right;\">\n",
       "      <th></th>\n",
       "      <th>MSSubClass</th>\n",
       "      <th>LotFrontage</th>\n",
       "      <th>LotArea</th>\n",
       "      <th>Neighborhood</th>\n",
       "      <th>HouseStyle</th>\n",
       "      <th>OverallQual</th>\n",
       "      <th>OverallCond</th>\n",
       "      <th>YearBuilt</th>\n",
       "      <th>Exterior1st</th>\n",
       "      <th>Exterior2nd</th>\n",
       "      <th>...</th>\n",
       "      <th>KitchenQual</th>\n",
       "      <th>TotRmsAbvGrd</th>\n",
       "      <th>Fireplaces</th>\n",
       "      <th>FireplaceQu</th>\n",
       "      <th>GarageType</th>\n",
       "      <th>GarageFinish</th>\n",
       "      <th>GarageCars</th>\n",
       "      <th>GarageArea</th>\n",
       "      <th>SalePrice</th>\n",
       "      <th>outdoorAreaSF</th>\n",
       "    </tr>\n",
       "  </thead>\n",
       "  <tbody>\n",
       "    <tr>\n",
       "      <th>0</th>\n",
       "      <td>60</td>\n",
       "      <td>65.0</td>\n",
       "      <td>8450</td>\n",
       "      <td>5</td>\n",
       "      <td>5</td>\n",
       "      <td>7</td>\n",
       "      <td>5</td>\n",
       "      <td>2003</td>\n",
       "      <td>11</td>\n",
       "      <td>13</td>\n",
       "      <td>...</td>\n",
       "      <td>2</td>\n",
       "      <td>8</td>\n",
       "      <td>0</td>\n",
       "      <td>5</td>\n",
       "      <td>1</td>\n",
       "      <td>1</td>\n",
       "      <td>2</td>\n",
       "      <td>548</td>\n",
       "      <td>208500</td>\n",
       "      <td>61</td>\n",
       "    </tr>\n",
       "    <tr>\n",
       "      <th>1</th>\n",
       "      <td>20</td>\n",
       "      <td>80.0</td>\n",
       "      <td>9600</td>\n",
       "      <td>24</td>\n",
       "      <td>2</td>\n",
       "      <td>6</td>\n",
       "      <td>8</td>\n",
       "      <td>1976</td>\n",
       "      <td>7</td>\n",
       "      <td>8</td>\n",
       "      <td>...</td>\n",
       "      <td>3</td>\n",
       "      <td>6</td>\n",
       "      <td>1</td>\n",
       "      <td>4</td>\n",
       "      <td>1</td>\n",
       "      <td>1</td>\n",
       "      <td>2</td>\n",
       "      <td>460</td>\n",
       "      <td>181500</td>\n",
       "      <td>298</td>\n",
       "    </tr>\n",
       "    <tr>\n",
       "      <th>2</th>\n",
       "      <td>60</td>\n",
       "      <td>68.0</td>\n",
       "      <td>11250</td>\n",
       "      <td>5</td>\n",
       "      <td>5</td>\n",
       "      <td>7</td>\n",
       "      <td>5</td>\n",
       "      <td>2001</td>\n",
       "      <td>11</td>\n",
       "      <td>13</td>\n",
       "      <td>...</td>\n",
       "      <td>2</td>\n",
       "      <td>6</td>\n",
       "      <td>1</td>\n",
       "      <td>4</td>\n",
       "      <td>1</td>\n",
       "      <td>1</td>\n",
       "      <td>2</td>\n",
       "      <td>608</td>\n",
       "      <td>223500</td>\n",
       "      <td>42</td>\n",
       "    </tr>\n",
       "    <tr>\n",
       "      <th>3</th>\n",
       "      <td>70</td>\n",
       "      <td>60.0</td>\n",
       "      <td>9550</td>\n",
       "      <td>6</td>\n",
       "      <td>5</td>\n",
       "      <td>7</td>\n",
       "      <td>5</td>\n",
       "      <td>1915</td>\n",
       "      <td>12</td>\n",
       "      <td>15</td>\n",
       "      <td>...</td>\n",
       "      <td>2</td>\n",
       "      <td>7</td>\n",
       "      <td>1</td>\n",
       "      <td>2</td>\n",
       "      <td>5</td>\n",
       "      <td>2</td>\n",
       "      <td>3</td>\n",
       "      <td>642</td>\n",
       "      <td>140000</td>\n",
       "      <td>307</td>\n",
       "    </tr>\n",
       "    <tr>\n",
       "      <th>4</th>\n",
       "      <td>60</td>\n",
       "      <td>84.0</td>\n",
       "      <td>14260</td>\n",
       "      <td>15</td>\n",
       "      <td>5</td>\n",
       "      <td>8</td>\n",
       "      <td>5</td>\n",
       "      <td>2000</td>\n",
       "      <td>11</td>\n",
       "      <td>13</td>\n",
       "      <td>...</td>\n",
       "      <td>2</td>\n",
       "      <td>9</td>\n",
       "      <td>1</td>\n",
       "      <td>4</td>\n",
       "      <td>1</td>\n",
       "      <td>1</td>\n",
       "      <td>3</td>\n",
       "      <td>836</td>\n",
       "      <td>250000</td>\n",
       "      <td>276</td>\n",
       "    </tr>\n",
       "  </tbody>\n",
       "</table>\n",
       "<p>5 rows × 31 columns</p>\n",
       "</div>"
      ],
      "text/plain": [
       "   MSSubClass  LotFrontage  LotArea  Neighborhood  HouseStyle  OverallQual  \\\n",
       "0          60         65.0     8450             5           5            7   \n",
       "1          20         80.0     9600            24           2            6   \n",
       "2          60         68.0    11250             5           5            7   \n",
       "3          70         60.0     9550             6           5            7   \n",
       "4          60         84.0    14260            15           5            8   \n",
       "\n",
       "   OverallCond  YearBuilt  Exterior1st  Exterior2nd  ...  KitchenQual  \\\n",
       "0            5       2003           11           13  ...            2   \n",
       "1            8       1976            7            8  ...            3   \n",
       "2            5       2001           11           13  ...            2   \n",
       "3            5       1915           12           15  ...            2   \n",
       "4            5       2000           11           13  ...            2   \n",
       "\n",
       "   TotRmsAbvGrd  Fireplaces  FireplaceQu  GarageType  GarageFinish  \\\n",
       "0             8           0            5           1             1   \n",
       "1             6           1            4           1             1   \n",
       "2             6           1            4           1             1   \n",
       "3             7           1            2           5             2   \n",
       "4             9           1            4           1             1   \n",
       "\n",
       "   GarageCars  GarageArea  SalePrice  outdoorAreaSF  \n",
       "0           2         548     208500             61  \n",
       "1           2         460     181500            298  \n",
       "2           2         608     223500             42  \n",
       "3           3         642     140000            307  \n",
       "4           3         836     250000            276  \n",
       "\n",
       "[5 rows x 31 columns]"
      ]
     },
     "execution_count": 7,
     "metadata": {},
     "output_type": "execute_result"
    }
   ],
   "source": [
    "df.head()"
   ]
  },
  {
   "cell_type": "markdown",
   "id": "e55251e9",
   "metadata": {},
   "source": [
    "## Creating model"
   ]
  },
  {
   "cell_type": "code",
   "execution_count": 8,
   "id": "839243ca",
   "metadata": {},
   "outputs": [],
   "source": [
    "# created X and y variable\n",
    "X = df.drop('SalePrice', axis = 1)\n",
    "y = df['SalePrice']"
   ]
  },
  {
   "cell_type": "code",
   "execution_count": 9,
   "id": "e7ad1527",
   "metadata": {},
   "outputs": [],
   "source": [
    "# import RandomForestRegressor\n",
    "from sklearn.ensemble import RandomForestRegressor\n",
    "rf = RandomForestRegressor()\n"
   ]
  },
  {
   "cell_type": "code",
   "execution_count": 10,
   "id": "c60502e1",
   "metadata": {},
   "outputs": [],
   "source": [
    "#split the data \n",
    "X_train, X_test, y_train, y_test = train_test_split(X, y, random_state=42)"
   ]
  },
  {
   "cell_type": "code",
   "execution_count": 11,
   "id": "fcda56fa",
   "metadata": {},
   "outputs": [],
   "source": [
    "# applied GridSearchCV to test multiple n_estimators\n",
    "from sklearn.model_selection import GridSearchCV \n",
    "param_grid = {'n_estimators':[100,200,300,500,600,700]}\n",
    "grid = GridSearchCV(rf,param_grid, verbose=5)"
   ]
  },
  {
   "cell_type": "code",
   "execution_count": 12,
   "id": "b8dfe020",
   "metadata": {},
   "outputs": [
    {
     "name": "stdout",
     "output_type": "stream",
     "text": [
      "Fitting 5 folds for each of 6 candidates, totalling 30 fits\n",
      "[CV 1/5] END ..................n_estimators=100;, score=0.890 total time=   0.6s\n",
      "[CV 2/5] END ..................n_estimators=100;, score=0.867 total time=   0.6s\n",
      "[CV 3/5] END ..................n_estimators=100;, score=0.848 total time=   0.6s\n",
      "[CV 4/5] END ..................n_estimators=100;, score=0.740 total time=   0.6s\n",
      "[CV 5/5] END ..................n_estimators=100;, score=0.872 total time=   0.6s\n",
      "[CV 1/5] END ..................n_estimators=200;, score=0.887 total time=   1.3s\n",
      "[CV 2/5] END ..................n_estimators=200;, score=0.874 total time=   1.2s\n",
      "[CV 3/5] END ..................n_estimators=200;, score=0.845 total time=   1.3s\n",
      "[CV 4/5] END ..................n_estimators=200;, score=0.736 total time=   1.3s\n",
      "[CV 5/5] END ..................n_estimators=200;, score=0.871 total time=   1.3s\n",
      "[CV 1/5] END ..................n_estimators=300;, score=0.888 total time=   2.0s\n",
      "[CV 2/5] END ..................n_estimators=300;, score=0.871 total time=   1.9s\n",
      "[CV 3/5] END ..................n_estimators=300;, score=0.846 total time=   1.9s\n",
      "[CV 4/5] END ..................n_estimators=300;, score=0.728 total time=   1.9s\n",
      "[CV 5/5] END ..................n_estimators=300;, score=0.879 total time=   1.9s\n",
      "[CV 1/5] END ..................n_estimators=500;, score=0.890 total time=   3.2s\n",
      "[CV 2/5] END ..................n_estimators=500;, score=0.871 total time=   3.3s\n",
      "[CV 3/5] END ..................n_estimators=500;, score=0.851 total time=   3.2s\n",
      "[CV 4/5] END ..................n_estimators=500;, score=0.734 total time=   3.2s\n",
      "[CV 5/5] END ..................n_estimators=500;, score=0.875 total time=   3.2s\n",
      "[CV 1/5] END ..................n_estimators=600;, score=0.887 total time=   3.9s\n",
      "[CV 2/5] END ..................n_estimators=600;, score=0.870 total time=   4.0s\n",
      "[CV 3/5] END ..................n_estimators=600;, score=0.846 total time=   3.9s\n",
      "[CV 4/5] END ..................n_estimators=600;, score=0.731 total time=   3.9s\n",
      "[CV 5/5] END ..................n_estimators=600;, score=0.875 total time=   3.9s\n",
      "[CV 1/5] END ..................n_estimators=700;, score=0.886 total time=   4.6s\n",
      "[CV 2/5] END ..................n_estimators=700;, score=0.871 total time=   4.6s\n",
      "[CV 3/5] END ..................n_estimators=700;, score=0.848 total time=   4.6s\n",
      "[CV 4/5] END ..................n_estimators=700;, score=0.733 total time=   4.7s\n",
      "[CV 5/5] END ..................n_estimators=700;, score=0.877 total time=   4.6s\n"
     ]
    },
    {
     "data": {
      "text/plain": [
       "GridSearchCV(estimator=RandomForestRegressor(),\n",
       "             param_grid={'n_estimators': [100, 200, 300, 500, 600, 700]},\n",
       "             verbose=5)"
      ]
     },
     "execution_count": 12,
     "metadata": {},
     "output_type": "execute_result"
    }
   ],
   "source": [
    "#fit gridsearch to my training data \n",
    "grid.fit(X_train,y_train)"
   ]
  },
  {
   "cell_type": "code",
   "execution_count": 13,
   "id": "efb5c638",
   "metadata": {},
   "outputs": [
    {
     "name": "stdout",
     "output_type": "stream",
     "text": [
      "{'n_estimators': 500}\n",
      "0.8441960813302014\n"
     ]
    }
   ],
   "source": [
    "#printed the results \n",
    "print(grid.best_params_)\n",
    "print(grid.best_score_)"
   ]
  },
  {
   "cell_type": "code",
   "execution_count": 14,
   "id": "db66dbe6",
   "metadata": {},
   "outputs": [
    {
     "data": {
      "text/plain": [
       "0.9784801394939797"
      ]
     },
     "execution_count": 14,
     "metadata": {},
     "output_type": "execute_result"
    }
   ],
   "source": [
    "#fit the model using the best parameters I found to my training data \n",
    "rf = RandomForestRegressor(n_estimators=500)\n",
    "rf = rf.fit(X_train, y_train)\n",
    "rf.score(X_train, y_train)"
   ]
  },
  {
   "cell_type": "code",
   "execution_count": 15,
   "id": "6fa8ca5f",
   "metadata": {},
   "outputs": [],
   "source": [
    "#created a data frame to show my results \n",
    "predictions =rf.predict(X_test).round()\n",
    "results = pd.DataFrame({\"Prediction\": predictions, \"Actual\": y_test, \"difference %\": round((y_test - predictions)/y_test*100,2)})"
   ]
  },
  {
   "cell_type": "code",
   "execution_count": 16,
   "id": "e35ae586",
   "metadata": {},
   "outputs": [
    {
     "data": {
      "text/html": [
       "<div>\n",
       "<style scoped>\n",
       "    .dataframe tbody tr th:only-of-type {\n",
       "        vertical-align: middle;\n",
       "    }\n",
       "\n",
       "    .dataframe tbody tr th {\n",
       "        vertical-align: top;\n",
       "    }\n",
       "\n",
       "    .dataframe thead th {\n",
       "        text-align: right;\n",
       "    }\n",
       "</style>\n",
       "<table border=\"1\" class=\"dataframe\">\n",
       "  <thead>\n",
       "    <tr style=\"text-align: right;\">\n",
       "      <th></th>\n",
       "      <th>Prediction</th>\n",
       "      <th>Actual</th>\n",
       "      <th>difference %</th>\n",
       "    </tr>\n",
       "  </thead>\n",
       "  <tbody>\n",
       "    <tr>\n",
       "      <th>741</th>\n",
       "      <td>260135.0</td>\n",
       "      <td>270000</td>\n",
       "      <td>3.65</td>\n",
       "    </tr>\n",
       "    <tr>\n",
       "      <th>865</th>\n",
       "      <td>116666.0</td>\n",
       "      <td>122900</td>\n",
       "      <td>5.07</td>\n",
       "    </tr>\n",
       "    <tr>\n",
       "      <th>339</th>\n",
       "      <td>432768.0</td>\n",
       "      <td>437154</td>\n",
       "      <td>1.00</td>\n",
       "    </tr>\n",
       "    <tr>\n",
       "      <th>192</th>\n",
       "      <td>142781.0</td>\n",
       "      <td>104000</td>\n",
       "      <td>-37.29</td>\n",
       "    </tr>\n",
       "    <tr>\n",
       "      <th>203</th>\n",
       "      <td>148448.0</td>\n",
       "      <td>145000</td>\n",
       "      <td>-2.38</td>\n",
       "    </tr>\n",
       "    <tr>\n",
       "      <th>816</th>\n",
       "      <td>148824.0</td>\n",
       "      <td>140000</td>\n",
       "      <td>-6.30</td>\n",
       "    </tr>\n",
       "    <tr>\n",
       "      <th>777</th>\n",
       "      <td>121097.0</td>\n",
       "      <td>109900</td>\n",
       "      <td>-10.19</td>\n",
       "    </tr>\n",
       "    <tr>\n",
       "      <th>67</th>\n",
       "      <td>243790.0</td>\n",
       "      <td>225000</td>\n",
       "      <td>-8.35</td>\n",
       "    </tr>\n",
       "    <tr>\n",
       "      <th>1070</th>\n",
       "      <td>314454.0</td>\n",
       "      <td>280000</td>\n",
       "      <td>-12.31</td>\n",
       "    </tr>\n",
       "    <tr>\n",
       "      <th>51</th>\n",
       "      <td>338698.0</td>\n",
       "      <td>385000</td>\n",
       "      <td>12.03</td>\n",
       "    </tr>\n",
       "  </tbody>\n",
       "</table>\n",
       "</div>"
      ],
      "text/plain": [
       "      Prediction  Actual  difference %\n",
       "741     260135.0  270000          3.65\n",
       "865     116666.0  122900          5.07\n",
       "339     432768.0  437154          1.00\n",
       "192     142781.0  104000        -37.29\n",
       "203     148448.0  145000         -2.38\n",
       "816     148824.0  140000         -6.30\n",
       "777     121097.0  109900        -10.19\n",
       "67      243790.0  225000         -8.35\n",
       "1070    314454.0  280000        -12.31\n",
       "51      338698.0  385000         12.03"
      ]
     },
     "execution_count": 16,
     "metadata": {},
     "output_type": "execute_result"
    }
   ],
   "source": [
    "results.head(10)"
   ]
  },
  {
   "cell_type": "code",
   "execution_count": 17,
   "id": "55d5b2da",
   "metadata": {},
   "outputs": [
    {
     "data": {
      "text/plain": [
       "[(0.4767066764350392, 'OverallQual'),\n",
       " (0.15137710669081414, 'GrLivArea'),\n",
       " (0.0706529603388898, 'TotalBsmtSF'),\n",
       " (0.05554263508933827, 'FullBath'),\n",
       " (0.036628474245495354, 'MasVnrArea'),\n",
       " (0.026115158050939186, 'GarageArea'),\n",
       " (0.0219512146502204, 'YearBuilt'),\n",
       " (0.019068315623213927, 'LotArea'),\n",
       " (0.017298618260624198, 'GarageCars'),\n",
       " (0.015590631071646035, 'TotRmsAbvGrd'),\n",
       " (0.014517282632167085, 'BsmtQual'),\n",
       " (0.012408405091854655, 'LotFrontage'),\n",
       " (0.01030004037673841, 'Neighborhood'),\n",
       " (0.009167784157396408, 'SalePrice'),\n",
       " (0.007027412699015388, 'OverallCond'),\n",
       " (0.006695231949663561, 'GarageFinish'),\n",
       " (0.006002700399593518, 'KitchenQual'),\n",
       " (0.005738580894182276, 'BsmtFullBath'),\n",
       " (0.005039179236091832, 'Fireplaces'),\n",
       " (0.004862781974813402, 'GarageType'),\n",
       " (0.004654939977292066, 'BsmtFinType1'),\n",
       " (0.004223710842405591, 'MSSubClass'),\n",
       " (0.003766986582269537, 'FireplaceQu'),\n",
       " (0.0032932720250800807, 'Exterior2nd'),\n",
       " (0.003094581692218591, 'Exterior1st'),\n",
       " (0.002445022236611701, 'BedroomAbvGr'),\n",
       " (0.0018499331012720329, 'HeatingQC'),\n",
       " (0.0016781087930471653, 'MasVnrType'),\n",
       " (0.0016104963624844575, 'HouseStyle'),\n",
       " (0.0006917585195819025, 'Foundation')]"
      ]
     },
     "execution_count": 17,
     "metadata": {},
     "output_type": "execute_result"
    }
   ],
   "source": [
    "#took a look at my most important features, this will come in handy later \n",
    "sorted(zip(rf.feature_importances_, df.columns), reverse=True)"
   ]
  },
  {
   "cell_type": "code",
   "execution_count": 18,
   "id": "ebd18d88",
   "metadata": {},
   "outputs": [
    {
     "data": {
      "text/plain": [
       "count    353.000000\n",
       "mean      -4.996799\n",
       "std       22.127261\n",
       "min     -179.520000\n",
       "25%       -7.990000\n",
       "50%       -0.480000\n",
       "75%        4.650000\n",
       "max       42.130000\n",
       "Name: difference %, dtype: float64"
      ]
     },
     "execution_count": 18,
     "metadata": {},
     "output_type": "execute_result"
    }
   ],
   "source": [
    "#took a look at the results \n",
    "results['difference %'].describe()"
   ]
  },
  {
   "cell_type": "code",
   "execution_count": 19,
   "id": "6cf11cb7",
   "metadata": {
    "scrolled": true
   },
   "outputs": [
    {
     "data": {
      "text/html": [
       "<div>\n",
       "<style scoped>\n",
       "    .dataframe tbody tr th:only-of-type {\n",
       "        vertical-align: middle;\n",
       "    }\n",
       "\n",
       "    .dataframe tbody tr th {\n",
       "        vertical-align: top;\n",
       "    }\n",
       "\n",
       "    .dataframe thead th {\n",
       "        text-align: right;\n",
       "    }\n",
       "</style>\n",
       "<table border=\"1\" class=\"dataframe\">\n",
       "  <thead>\n",
       "    <tr style=\"text-align: right;\">\n",
       "      <th></th>\n",
       "      <th>Prediction</th>\n",
       "      <th>Actual</th>\n",
       "      <th>difference %</th>\n",
       "    </tr>\n",
       "  </thead>\n",
       "  <tbody>\n",
       "    <tr>\n",
       "      <th>1253</th>\n",
       "      <td>447236.0</td>\n",
       "      <td>160000</td>\n",
       "      <td>-179.52</td>\n",
       "    </tr>\n",
       "  </tbody>\n",
       "</table>\n",
       "</div>"
      ],
      "text/plain": [
       "      Prediction  Actual  difference %\n",
       "1253    447236.0  160000       -179.52"
      ]
     },
     "execution_count": 19,
     "metadata": {},
     "output_type": "execute_result"
    }
   ],
   "source": [
    "#single worst result with a highly over valued prediction \n",
    "results[(results['difference %']==-179.520000)]"
   ]
  },
  {
   "cell_type": "markdown",
   "id": "e6ec7c88",
   "metadata": {},
   "source": [
    "##### After evaluating the results it shows that my model can be reasonably accurate, but that their are some features that were possibly dropped that could skew my results heavily. "
   ]
  },
  {
   "cell_type": "code",
   "execution_count": null,
   "id": "b7e4c88d",
   "metadata": {},
   "outputs": [],
   "source": []
  },
  {
   "cell_type": "markdown",
   "id": "77fb3fff",
   "metadata": {},
   "source": [
    "### Saving the model "
   ]
  },
  {
   "cell_type": "code",
   "execution_count": 21,
   "id": "d2c47d70",
   "metadata": {},
   "outputs": [
    {
     "data": {
      "text/plain": [
       "['random_forest.joblib']"
      ]
     },
     "execution_count": 21,
     "metadata": {},
     "output_type": "execute_result"
    }
   ],
   "source": [
    "#saved my model using joblib \n",
    "import joblib \n",
    "joblib.dump(rf, \"random_forest.joblib\")"
   ]
  },
  {
   "cell_type": "code",
   "execution_count": 22,
   "id": "25a35ef5",
   "metadata": {},
   "outputs": [],
   "source": [
    "#loaded the model back in and tested it \n",
    "rf_load = joblib.load(\"random_forest.joblib\")"
   ]
  },
  {
   "cell_type": "code",
   "execution_count": 24,
   "id": "d9b4e63f",
   "metadata": {},
   "outputs": [
    {
     "data": {
      "text/plain": [
       "array([260135., 116666., 432768., 142781., 148448., 148824., 121097.,\n",
       "       243790., 314454., 338698., 174772., 375512., 230494., 204960.,\n",
       "       179201., 226178., 151819., 153037., 110444., 223821., 165027.,\n",
       "       145756., 166034., 187597.,  93714., 255255., 166127., 252390.,\n",
       "       150383., 366323., 239882., 226853., 218493.,  78132., 210645.,\n",
       "       135605., 158492., 218670., 116704., 104222., 113344.,  89345.,\n",
       "       301455., 128590., 281880., 116897., 120544., 171251., 339393.,\n",
       "       151358., 155921., 127840., 153488., 196910., 144792.,  97211.,\n",
       "       112699., 159290., 145359., 244632., 130144., 234849., 101085.,\n",
       "       101642., 142545., 345015.,  89360., 156568., 182049., 256343.,\n",
       "       108147., 194875., 180212., 213370., 194844., 237394., 188604.,\n",
       "       140421., 129929., 190985., 142332., 377106., 128690.,  86303.,\n",
       "       311422., 167033., 279624., 215054., 131927., 132875., 126613.,\n",
       "       338808., 204532., 131328., 150364., 126030., 286521., 126829.,\n",
       "       199722., 188639., 239489., 175027., 122689., 151955., 128607.,\n",
       "       184734., 142708., 287520., 165368., 167320., 147214., 157007.,\n",
       "       145977., 137727., 440936., 142256., 132456., 290576., 329892.,\n",
       "       342700., 241700., 170875., 116657., 352706., 181273., 111464.,\n",
       "       224159., 145264., 169312., 211340., 144194., 165522., 212967.,\n",
       "       154221., 160132., 302562., 445716., 322400., 138766., 290266.,\n",
       "       137653., 192477., 120923., 140778., 149236., 130906., 217500.,\n",
       "       298375., 133928., 117530., 143640., 137577., 150762., 158490.,\n",
       "       172074., 106054., 192721., 218326., 102761., 135647., 140120.,\n",
       "       124860., 137630., 129149., 142792., 223226., 179595., 133701.,\n",
       "       194613., 169111., 206502.,  60155., 177147., 317160., 156175.,\n",
       "       186296., 135244., 160228., 179234., 227081., 447236., 141104.,\n",
       "       170465., 109895., 122427., 103942., 172515.,  95759., 145598.,\n",
       "       121858., 291748., 172018., 208412., 114263., 333018., 136433.,\n",
       "       157121., 261390., 127130., 418962., 145352., 142912., 133093.,\n",
       "       123421., 222863., 159137., 155771., 122219., 167908., 272329.,\n",
       "       194815., 145546., 129673., 257775., 191116., 264805., 118691.,\n",
       "       167945., 271661., 190670., 170955., 138895., 178695., 148325.,\n",
       "       231626., 106430., 160166., 149838., 162117.,  91368., 117682.,\n",
       "       135380., 160767., 329470., 137893., 157435., 118458., 185307.,\n",
       "       241728., 212780., 141542., 123049., 340003., 255711., 195431.,\n",
       "       126399., 177158., 425219., 165125., 242646.,  81782., 250854.,\n",
       "       124881., 116108., 164092., 179874., 119461., 318805., 121210.,\n",
       "       165085.,  86756., 145416.,  93052., 139127., 134882., 257874.,\n",
       "       109709., 129340., 141630., 184437., 234857., 130460., 216080.,\n",
       "       219854., 192915., 171067., 136521., 153592., 156306., 104775.,\n",
       "       122205., 299073., 191434., 157254., 195022., 127320., 176019.,\n",
       "       171261., 130012., 148062., 257458., 154801., 190522., 149001.,\n",
       "       164817., 437706., 181955., 229899., 155963., 262900., 221532.,\n",
       "       207652., 143593., 141392., 156264., 193667., 114172., 117203.,\n",
       "        95805., 148157., 129653., 116276., 266512., 152800., 188360.,\n",
       "       251942., 219787., 186353., 233315.,  86924., 129528., 330231.,\n",
       "       147317., 230681.,  94593., 142289.,  88501., 147942., 167734.,\n",
       "       281404., 145483., 171916., 147260., 166609., 194362., 187067.,\n",
       "       235061., 440049., 195813., 121582.,  87618., 233042., 195251.,\n",
       "       166403., 282511., 148658., 149330., 158918., 260125.,  94230.,\n",
       "       244815., 139303.,  94554.])"
      ]
     },
     "execution_count": 24,
     "metadata": {},
     "output_type": "execute_result"
    }
   ],
   "source": [
    "rf_load.predict(X_test).round()"
   ]
  },
  {
   "cell_type": "code",
   "execution_count": null,
   "id": "227d1624",
   "metadata": {},
   "outputs": [],
   "source": []
  }
 ],
 "metadata": {
  "kernelspec": {
   "display_name": "Python [conda env:PythonAdv] *",
   "language": "python",
   "name": "conda-env-PythonAdv-py"
  },
  "language_info": {
   "codemirror_mode": {
    "name": "ipython",
    "version": 3
   },
   "file_extension": ".py",
   "mimetype": "text/x-python",
   "name": "python",
   "nbconvert_exporter": "python",
   "pygments_lexer": "ipython3",
   "version": "3.6.13"
  }
 },
 "nbformat": 4,
 "nbformat_minor": 5
}
